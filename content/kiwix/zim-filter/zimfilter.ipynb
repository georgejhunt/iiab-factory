{
 "cells": [
  {
   "cell_type": "markdown",
   "id": "jewish-closing",
   "metadata": {
    "tags": []
   },
   "source": [
    "## Modifying ZIM Files\n",
    "\n",
    "#### The Larger Picture\n",
    "* Kiwix scrapes many useful sources, but sometimes the chunks are too big for IIAB.\n",
    "* Using the zimdump program, the highly compressed ZIM files can be flattened into a file tree, modified, and then re-packaged as a ZIM file.\n",
    "* This Notebook has a collection of tools which filters the content into a new smaller zim selected by youtube views/per year.\n"
   ]
  },
  {
   "cell_type": "markdown",
   "id": "included-watson",
   "metadata": {},
   "source": [
    "#### How to Use this notebook\n",
    "* The zimdump program (at https://github.com/openzim/zim-tools) needs to be compiled from source.\n",
    "* A bash script makes is easy to compile zimtools (which contains zimdump) on Ubuntu 20.04. There are instructions for the compilation at the github url. In a terminal, do the following:\n",
    "\n",
    "```\n",
    "cd /opt/iiab/iiab-factory/content/kiwix/generic/ \n",
    "sudo ./install-zim-tools.sh\n",
    "\n",
    "```\n",
    "* This ```zimfilter``` program can be set up into a python virtual environment using a role in the iiab-factory repository:\n",
    "\n",
    "```\n",
    "sudo ./runrole youtube\n",
    "```"
   ]
  },
  {
   "cell_type": "markdown",
   "id": "subsequent-rabbit",
   "metadata": {},
   "source": [
    "* **Some conventions**: Jupyter does not want to run as root. We will create a file structure that exists in the users home directory -- so the application will be able to write all the files it needs to function.\n",
    "```\n",
    "<PREFIX>\n",
    "├── default_config.yaml\n",
    "├── new-zim\n",
    "├── output_tree\n",
    "├── proof\n",
    "├── tree\n",
    "├── working\n",
    "└── zim-src\n",
    "```\n",
    "In general terms, this program will dump the zim data into \"tree\", modify it, gather additional data into \"working\", copy the desired videos to \"output_tree\"\n",
    ", and create a ZIM file in \"new_zim\". After the new ZIM is created, it is re-dumped to \"proof\".\n",
    "* For testing purposes, the user will need to link from the server's document root to her home directory (so that the nginx http server in IIAB will serve the candidate in \"tree):\n",
    "\n",
    "```\n",
    "cd\n",
    "mkdir -p zims\n",
    "ln -s /home/<user name>/zims/library/www/html/zims \n",
    "```\n",
    "**Note**: At the bottom of this notebook there is information about installing jupyterhub on VirtualBox."
   ]
  },
  {
   "cell_type": "markdown",
   "id": "subject-princeton",
   "metadata": {},
   "source": [
    "#### Declare input and output\n",
    "* The ZIM file names tend to be long and hard to remember. The PROJECT_NAME, initialized below, is used to create path names. All of the output of the zimdump program is placed in \\<home\\>/zims/\\<PROJECT_NAME\\>/tree. All if the intermediate downloads, and data, are placed in \\<home\\>/zims/\\<PROJECT_NAME\\>/working. If you use the IIAB Admin Console to download ZIMS, you will find them in /library/zims/content/."
   ]
  },
  {
   "cell_type": "code",
   "execution_count": null,
   "id": "every-enemy",
   "metadata": {
    "tags": []
   },
   "outputs": [],
   "source": [
    "#!/usr/bin/env python3\n",
    "# -*- coding: utf-8 -*-\n",
    "import os,sys\n",
    "import json\n",
    "import youtube_dl\n",
    "import pprint as pprint\n",
    "from types import SimpleNamespace\n",
    "import subprocess\n",
    "from ruamel.yaml import YAML \n",
    "from pprint import pprint\n",
    "\n",
    "# Get the current project from it's pointer in iiab-factory repo\n",
    "FACTORY_REPO = '/opt/iiab/iiab-factory'\n",
    "PREFIX = '/library/www/html/zims'\n",
    "#PREFIX = '/ext/zims'\n",
    "\n",
    "current_project = FACTORY_REPO + '/content/kiwix/zim-filter/current_project'\n",
    "if not os.path.isfile(current_project):\n",
    "    print(f'\\\"current_project\\\" file is missing: {current_project}')\n",
    "    sys.exit(1)\n",
    "with open(current_project,'r') as fp:\n",
    "    project_name = fp.read().strip().split('/')\n",
    "    if len(project_name) > 0:\n",
    "        prefix = project_name[:-1]\n",
    "        project_name = project_name[-1]\n",
    "lookfor = f\"{PREFIX}/{project_name}/default_config.yaml\"\n",
    "dflt_cfg = f'{FACTORY_REPO}/content/kiwix/zim-filter/default_filter.yaml'\n",
    "yml = YAML()\n",
    "if not os.path.isfile(lookfor):\n",
    "    with open(dflt_cfg,'r') as fp:\n",
    "        cfg = yml.load(fp)\n",
    "    cfg['PREFIX'] = PREFIX\n",
    "    cfg['PROJECT_NAME'] = project_name\n",
    "    with open(lookfor,'w') as newfp:\n",
    "        yml.dump(cfg,newfp) \n",
    "else:\n",
    "    with open(lookfor,'r') as fp:\n",
    "        cfg = yml.load(fp)\n",
    "\n",
    "PROJECT_NAME = cfg['PROJECT_NAME']\n",
    "SOURCE_URL = cfg['SOURCE_URL']\n",
    "CACHE_DIR = PREFIX + '/youtube/cache'\n",
    "if not os.path.isdir(CACHE_DIR):\n",
    "   os.makedirs(CACHE_DIR)\n",
    "TARGET_SIZE = cfg['TARGET_SIZE']  #10GB\n",
    "\n",
    "# The rest of the paths are computed and represent the standard layout\n",
    "WORKING_DIR = PREFIX + '/' + PROJECT_NAME + '/working'\n",
    "PROJECT_DIR = PREFIX + '/' + PROJECT_NAME + '/tree'\n",
    "OUTPUT_DIR = PREFIX + '/' + PROJECT_NAME + '/output_tree'\n",
    "SOURCE_DIR = PREFIX + '/' + PROJECT_NAME + '/zim-src'\n",
    "NEW_ZIM_DIR = PREFIX + '/' + PROJECT_NAME + '/new-zim'\n",
    "PROOF_DIR = PREFIX + '/' + PROJECT_NAME + '/proof'\n",
    "dir_list = ['working','output_tree','tree','../youtube/cache/video_json','zim-src','new-zim','proof']\n",
    "for f in dir_list: \n",
    "    if not os.path.isdir(PREFIX + '/' + PROJECT_NAME +'/' + f):\n",
    "       os.makedirs(PREFIX + '/' + PROJECT_NAME +'/' + f)\n",
    "\n",
    "# Input the full path of the downloaded ZIM file\n",
    "ZIM_PATH = SOURCE_DIR\n",
    "zim_path_contents = os.listdir(SOURCE_DIR)\n",
    "if zim_path_contents:\n",
    "    ZIM_PATH = SOURCE_DIR + '/' + zim_path_contents[0]\n",
    "else:\n",
    "    if SOURCE_URL.find('/library/zims') == 0:\n",
    "        os.symlink(SOURCE_URL,SOURCE_DIR)\n",
    "    else:\n",
    "        cmd = 'wget -P %s %s'%(SOURCE_DIR,SOURCE_URL)\n",
    "        print('command:%s'%cmd)\n",
    "        subprocess.run(cmd,shell=True)\n",
    "        \n",
    "# abort if the input file cannot be found\n",
    "if not os.path.exists(ZIM_PATH):\n",
    "    print('%s path not found. Quitting. . .'%ZIM_PATH)\n",
    "    exit\n"
   ]
  },
  {
   "cell_type": "code",
   "execution_count": null,
   "id": "adult-worry",
   "metadata": {},
   "outputs": [],
   "source": [
    "print(f'{PREFIX},{PROJECT_DIR},{project_name}')"
   ]
  },
  {
   "cell_type": "code",
   "execution_count": null,
   "id": "innocent-serial",
   "metadata": {
    "tags": []
   },
   "outputs": [],
   "source": [
    "# The following command will zimdump to the \"tree\" directory\n",
    "#  Despite the name, removing namespaces seems unnecessary, and more complex\n",
    "# It will return without doing anything if the \"tree' is not empty\n",
    "print('Using zimdump to expand the zim file to %s'%PROJECT_DIR)\n",
    "progname = '%s/content/kiwix/zim-filter/de-namespace.sh'%(cfg['FACTORY_REPO'])\n",
    "cmd = \"%s %s %s\"%(progname,ZIM_PATH,PREFIX + '/' + PROJECT_NAME)\n",
    "print('command:%s'%cmd)\n",
    "subprocess.run(cmd,shell=True,capture_output=True)\n"
   ]
  },
  {
   "cell_type": "markdown",
   "id": "banned-phone",
   "metadata": {},
   "source": [
    "* The next step is a manual one that you will need to do with your browser. That is: to verify that after the namespace directories were removed, and all of the html links have been adjusted correctly. Point your browser to <hostname>/zims/\\<PROJECT_NAME\\>/tree.\n",
    "* If everything is working, it's time to go fetch the information about each video from youtube."
   ]
  },
  {
   "cell_type": "code",
   "execution_count": null,
   "id": "bronze-devil",
   "metadata": {
    "scrolled": true,
    "tags": []
   },
   "outputs": [],
   "source": [
    "ydl = youtube_dl.YoutubeDL()\n",
    "print('Downloading metadata from Youtube')\n",
    "downloaded = 0\n",
    "skipped = 0\n",
    "# Create a list of youtube id's\n",
    "yt_id_list = os.listdir(PROJECT_DIR + '/videos/')\n",
    "for yt_id in iter(yt_id_list):\n",
    "    if os.path.exists(CACHE_DIR + '/video_json/' + yt_id + '.json'):\n",
    "        # skip over items that are already downloadd\n",
    "        skipped += 1\n",
    "        continue\n",
    "    with ydl:\n",
    "       result = ydl.extract_info(\n",
    "                'http://www.youtube.com/watch?v=%s'%yt_id,\n",
    "                download=False # We just want to extract the info\n",
    "                )\n",
    "       downloaded += 1\n",
    "\n",
    "    with open(CACHE_DIR + '/video_json/' + yt_id + '.json','w') as fp:\n",
    "        fp.write(json.dumps(result))\n",
    "    #pprint.pprint(result['upload_date'],result['view_count'])\n",
    "print('%s skipped and %s downloaded'%(skipped,downloaded))"
   ]
  },
  {
   "cell_type": "markdown",
   "id": "accompanied-characteristic",
   "metadata": {},
   "source": [
    "#### Playlist Navigation to Videos\n",
    "* On the home page that shows when viewing a ZIM, there is a drop down selector which lists about 70 cateegories (or playlists).\n",
    "* The value from that drop down is used to pick an entry in \"-/assets/data.js\", which in turn specifies the  youtube ID\"s that are displayed when a selection is made."
   ]
  },
  {
   "cell_type": "code",
   "execution_count": null,
   "id": "respiratory-conflict",
   "metadata": {
    "tags": []
   },
   "outputs": [],
   "source": [
    "def get_assets_data():\n",
    "    # the file <root>/assets/data.js holds the category to video mappings\n",
    "    outstr = '['\n",
    "    data = {}\n",
    "    with open(PROJECT_DIR + '/assets/data.js', 'r') as fp:\n",
    "        line = fp.readline()\n",
    "        while True:\n",
    "            if line.startswith('var') or not line :\n",
    "                if len(outstr) > 3:\n",
    "                    # clip off the trailing semicolon\n",
    "                    outstr = outstr[:-2]\n",
    "                    try:\n",
    "                        data[cat] = json.loads(outstr)\n",
    "                    except Exception:\n",
    "                        print('Parse error: %s'%outstr[:80])\n",
    "                        exit\n",
    "                cat = line[9:-4]\n",
    "                outstr = '['\n",
    "                if not line: break\n",
    "            else:\n",
    "                outstr += line\n",
    "            line = fp.readline()\n",
    "    return data\n",
    "\n",
    "zim_category_js = get_assets_data()\n",
    "#print(json.dumps(zim_category_js,indent=2))\n",
    "def get_zim_data(yt_id):\n",
    "    rtn_dict = {}\n",
    "    for cat in  iter(zim_category_js.keys()):\n",
    "        for video in range(len(zim_category_js[cat])):\n",
    "            if zim_category_js[cat][video]['id'] == yt_id:\n",
    "                rtn_dict = zim_category_js[cat][video]\n",
    "                break\n",
    "        if len(rtn_dict) > 0: break\n",
    "    return rtn_dict\n",
    "ans = get_zim_data('usdJgEwMinM')\n",
    "#print(json.dumps(ans,indent=2))"
   ]
  },
  {
   "cell_type": "markdown",
   "id": "alert-native",
   "metadata": {},
   "source": [
    "#### The following Cell is subroutines and can be left minimized"
   ]
  },
  {
   "cell_type": "code",
   "execution_count": null,
   "id": "cultural-alaska",
   "metadata": {
    "tags": []
   },
   "outputs": [],
   "source": [
    "from pprint import pprint\n",
    "from pymediainfo import MediaInfo\n",
    "\n",
    "def mediainfo_dict(path):\n",
    "    try:\n",
    "        minfo = MediaInfo.parse(path)\n",
    "    except:\n",
    "        print('mediainfo_dict. file not found: %s'%path)\n",
    "        return {}\n",
    "    return minfo.to_data()\n",
    "\n",
    "def select_info(path):\n",
    "    global data\n",
    "    data = mediainfo_dict(path)\n",
    "    rtn = {}\n",
    "    infotrack = data.get('tracks',0)\n",
    "    if infotrack == 0:\n",
    "        return {}\n",
    "    for index in range(len(infotrack)):\n",
    "        #if index\n",
    "        track = data['tracks'][index]\n",
    "        if track['kind_of_stream'] == 'General':\n",
    "            rtn['file_size'] = track.get('file_size',0)\n",
    "            rtn['bit_rate'] = track.get('overall_bit_rate',0)\n",
    "            rtn['time'] = track['other_duration'][0]\n",
    "        if track['kind_of_stream'] == 'Audio':\n",
    "            rtn['a_stream'] = track.get('stream_size',0)\n",
    "            rtn['a_rate'] = track.get('maximum_bit_rate',0)\n",
    "            rtn['a_channels'] = track.get('channel_s',0)\n",
    "        if track['kind_of_stream'] == 'Video':\n",
    "            rtn['v_stream'] = track.get('stream_size',0)\n",
    "            rtn['v_format'] = track['other_format'][0]\n",
    "            rtn['v_rate'] = track.get('bit_rate',0)\n",
    "            rtn['v_frame_rate'] = track.get('frame_rate',0)\n",
    "            rtn['v_width'] = track.get('width',0)\n",
    "            rtn['v_height'] = track.get('height',0)\n",
    "    return rtn"
   ]
  },
  {
   "cell_type": "code",
   "execution_count": null,
   "id": "portuguese-gentleman",
   "metadata": {
    "tags": []
   },
   "outputs": [],
   "source": [
    "import sqlite3\n",
    "class Sqlite():\n",
    "   def __init__(self, filename):\n",
    "      self.conn = sqlite3.connect(filename)\n",
    "      self.conn.row_factory = sqlite3.Row\n",
    "      self.conn.text_factory = str\n",
    "      self.c = self.conn.cursor()\n",
    "    \n",
    "   def __del__(self):\n",
    "      self.conn.commit()\n",
    "      self.c.close()\n",
    "      del self.conn\n",
    "\n",
    "def get_video_json(path):\n",
    "    with open(path,'r') as fp:\n",
    "        try:\n",
    "            jsonstr = fp.read()\n",
    "            #print(path)\n",
    "            modules = json.loads(jsonstr.strip())\n",
    "        except Exception as e:\n",
    "            print(e)\n",
    "            print(jsonstr[:80])\n",
    "            return {}\n",
    "    return modules\n",
    "\n",
    "def video_size(yt_id):\n",
    "    return os.path.getsize(PROJECT_DIR + '/-/videos/' + yt_id + '/video.webm')\n",
    "\n",
    "def make_directory(path):\n",
    "    if not os.path.exists(path):\n",
    "        os.makedirs(path)\n",
    "\n",
    "def download_file(url,todir):\n",
    "    local_filename = url.split('/')[-1]\n",
    "    r = requests.get(url)\n",
    "    f = open(todir + '/' + local_filename, 'wb')\n",
    "    for chunk in r.iter_content(chunk_size=512 * 1024):\n",
    "        if chunk:\n",
    "            f.write(chunk)\n",
    "    f.close()\n",
    "    \n",
    "from datetime import datetime\n",
    "def age_in_years(upload_date):\n",
    "    uploaded_dt = datetime.strptime(upload_date,\"%Y%m%d\")\n",
    "    now_dt = datetime.now()\n",
    "    days_delta = now_dt - uploaded_dt\n",
    "    years = days_delta.days/365 + 1\n",
    "    return years"
   ]
  },
  {
   "cell_type": "markdown",
   "id": "close-trigger",
   "metadata": {},
   "source": [
    "#### Create a sqlite database which collects Data about each Video\n",
    "* We've already downloaded the data from YouTube for each Video. So get the items that are interesing to us. Such as size,date uploaded to youtube,view count"
   ]
  },
  {
   "cell_type": "code",
   "execution_count": null,
   "id": "vanilla-conjunction",
   "metadata": {
    "tags": []
   },
   "outputs": [],
   "source": [
    "def initialize_db():\n",
    "    sql = 'CREATE TABLE IF NOT EXISTS video_info ('\\\n",
    "            'yt_id TEXT UNIQUE, zim_size INTEGER, view_count INTEGER, age INTEGER, '\\\n",
    "            'views_per_year INTEGER, upload_date TEXT, duration TEXT, '\\\n",
    "            'height INTEGER, width INTEGER,'\\\n",
    "            'bit_rate TEXT, format TEXT, '\\\n",
    "            'average_rating REAL,slug TEXT,title TEXT)'\n",
    "    db.c.execute(sql)\n",
    "    \n",
    "print('Creating/Updating a Sqlite database with information about the Videos in this ZIM.')\n",
    "print(WORKING_DIR)\n",
    "db = Sqlite(WORKING_DIR + '/zim_video_info.sqlite')\n",
    "initialize_db()\n",
    "sql = 'select count() as num from video_info'\n",
    "db.c.execute(sql)\n",
    "row = db.c.fetchone()\n",
    "if row[0] == len(yt_id_list):\n",
    "    print('skipping update of sqlite database. Number of records equals number of videos')\n",
    "else:\n",
    "    for yt_id in iter(yt_id_list):\n",
    "        # some defaults\n",
    "        age = 0\n",
    "        views_per_year = 1\n",
    "        # fetch data from assets/data.js\n",
    "        zim_data = get_zim_data(yt_id)\n",
    "        if len(zim_data) == 0: \n",
    "            print('get_zim_data returned no data for %s'%yt_id)\n",
    "        slug = zim_data['slug']\n",
    "\n",
    "        # We already have youtube data for every video, use it \n",
    "        data = get_video_json(CACHE_DIR + \"/video_json/\" + yt_id + '.json')\n",
    "        if len(data) == 0:\n",
    "            print('get_video_json returned no data for %s'%yt_id)\n",
    "        vsize = data.get('filesize',0)\n",
    "        view_count = data.get('view_count',0)\n",
    "        upload_date = data.get('upload_date','')\n",
    "        average_rating = data.get('average_rating',0)\n",
    "        title = data.get('title','unknown title')\n",
    "        # calculate the views_per_year since it was uploaded\n",
    "        if upload_date != '':\n",
    "            age = round(age_in_years(upload_date))\n",
    "            views_per_year = int(view_count / age)\n",
    "\n",
    "        # interogate the video itself\n",
    "        filename = PROJECT_DIR + '/videos/' + yt_id + '/video.webm'\n",
    "        if os.path.isfile(filename):\n",
    "            vsize = os.path.getsize(filename)\n",
    "            #print('vsize:%s'%vsize)\n",
    "            selected_data = select_info(filename)\n",
    "            if len(selected_data) == 0:\n",
    "                duration = \"not found\"\n",
    "                bit_rate = \"\" \n",
    "                v_format = \"\"\n",
    "                v_height = \"\"\n",
    "                v_width = \"\"\n",
    "            else:\n",
    "                duration = selected_data['time']\n",
    "                bit_rate = selected_data['bit_rate']\n",
    "                v_format = selected_data['v_format']\n",
    "                v_height = selected_data['v_height']\n",
    "                v_width = selected_data['v_width']\n",
    "\n",
    "        # colums names: yt_id,zim_size,view_count,views_per_year,upload_date,duration,\n",
    "        #         bit_rate, format,average_rating,slug\n",
    "        sql = 'INSERT OR REPLACE INTO video_info VALUES (?,?,?,?,?,?,?,?,?,?,?,?,?,?)'\n",
    "        db.c.execute(sql,[yt_id,vsize,view_count,round(age),views_per_year,upload_date, \\\n",
    "                          duration,v_height,v_width,bit_rate,v_format,average_rating,slug,title, ])\n",
    "    db.conn.commit()\n",
    "    print(yt_id,vsize,view_count,views_per_year,upload_date, \\\n",
    "                          duration,bit_rate,v_format,average_rating,slug,round(age))"
   ]
  },
  {
   "cell_type": "raw",
   "id": "designing-approval",
   "metadata": {
    "tags": [
     "\"output_scroll\""
    ]
   },
   "source": [
    "sqlite_db = WORKING_DIR + '/zim_video_info.sqlite'\n",
    "!sqlite3 {sqlite_db} '.headers on' 'select * from video_info limit 2'"
   ]
  },
  {
   "cell_type": "markdown",
   "id": "known-exhaust",
   "metadata": {},
   "source": [
    "#### Select the cutoff using view count and total size\n",
    "* Order the videos by view countper year. Then select the sum line in the that has the target sum."
   ]
  },
  {
   "cell_type": "code",
   "execution_count": null,
   "id": "breeding-surge",
   "metadata": {
    "scrolled": true,
    "tags": []
   },
   "outputs": [],
   "source": [
    "import pandas as pd\n",
    "from IPython.display import display \n",
    "global tot_sum\n",
    "\n",
    "def human_readable(num):\n",
    "    # return 3 significant digits and unit specifier\n",
    "    num = float(num)\n",
    "    units = [ '','K','M','G']\n",
    "    for i in range(4):\n",
    "        if num<10.0:\n",
    "            return \"%.2f%s\"%(num,units[i])\n",
    "        if num<100.0:\n",
    "            return \"%.1f%s\"%(num,units[i])\n",
    "        if num < 1000.0:\n",
    "            return \"%.0f%s\"%(num,units[i])\n",
    "        num /= 1024.0\n",
    "\n",
    "sql = 'select slug,zim_size,views_per_year,view_count,duration,upload_date,'\\\n",
    "       'format,width,height,bit_rate from video_info order by views_per_year desc'\n",
    "tot_sum = 0\n",
    "db.c.execute(sql)\n",
    "rows = db.c.fetchall()\n",
    "row_list = []\n",
    "boundary_views_per_year = 0\n",
    "for row in rows:\n",
    "    tot_sum += row['zim_size']\n",
    "    row_list.append([row['slug'][:60],human_readable(row['zim_size']),\\\n",
    "                              human_readable(tot_sum),human_readable(row['view_count']),\\\n",
    "                              human_readable(row['views_per_year']),\\\n",
    "                              row['upload_date'],row['duration'],row['bit_rate']])\n",
    "    if tot_sum > TARGET_SIZE and boundary_views_per_year == 0:\n",
    "        boundary_views_per_year = row['views_per_year']\n",
    "print('%60s %6s %6s %6s %6s %8s %8s'%('Name','Size','Sum','Views','Views','Date  ','Duration'))\n",
    "print('%60s %6s %6s %6s %6s %8s %8s'%('','','','','/ yr','',''))\n",
    "tot_sum = 0\n",
    "for row in rows:\n",
    "    tot_sum += row['zim_size']\n",
    "    print('%60s %6s %6s %6s %6s %8s %8s'%(row['slug'][:60],human_readable(row['zim_size']),\\\n",
    "                              human_readable(tot_sum),human_readable(row['view_count']),\\\n",
    "                              human_readable(row['views_per_year']),\\\n",
    "                              row['upload_date'],row['duration']))\n",
    "#df = pd.read_sql(sql,db.conn)\n",
    "#df = pd.DataFrame(row_list,columns=['Name','Size','Sum','Views','Views','Date','Duration','Bit Rate'])\n",
    "#display(df)"
   ]
  },
  {
   "cell_type": "markdown",
   "id": "comprehensive-belize",
   "metadata": {
    "tags": []
   },
   "source": [
    "* Now determine the video ID's that we want in our new zim"
   ]
  },
  {
   "cell_type": "code",
   "execution_count": null,
   "id": "moderate-halifax",
   "metadata": {},
   "outputs": [],
   "source": [
    "print('We will include videos with views_per_year greater than %s'%boundary_views_per_year)\n",
    "wanted_ids = []\n",
    "sql = 'SELECT yt_id, title from video_info where views_per_year > ?'\n",
    "db.c.execute(sql,[boundary_views_per_year,])\n",
    "rows = db.c.fetchall()\n",
    "for row in rows:\n",
    "    wanted_ids.append(row['yt_id'])\n",
    "\n",
    "#with open(HOME + '/zims/' + PROJECT_NAME + '/wanted_list.csv','w') as fp:\n",
    "#    for row in rows:\n",
    "#        fp.write('%s,%s\\n'%(row['yt_id'],row['title'],))"
   ]
  },
  {
   "cell_type": "raw",
   "id": "pleased-raising",
   "metadata": {},
   "source": [
    "wanted_ids"
   ]
  },
  {
   "cell_type": "markdown",
   "id": "juvenile-interest",
   "metadata": {},
   "source": [
    "* Now let's start building up the output directory\n"
   ]
  },
  {
   "cell_type": "code",
   "execution_count": null,
   "id": "acoustic-minimum",
   "metadata": {
    "tags": []
   },
   "outputs": [],
   "source": [
    "import shutil\n",
    "# copy the default top level directories (these were in the zim's \"-\" directory )\n",
    "print('Copying wanted folders and Videos to %s'%OUTPUT_DIR)\n",
    "cpy_dirs = ['assets','cache','channels']\n",
    "for d in cpy_dirs:\n",
    "    shutil.rmtree(os.path.join(OUTPUT_DIR,d),ignore_errors=True)\n",
    "    os.makedirs(os.path.join(OUTPUT_DIR,d))\n",
    "    src = os.path.join(PROJECT_DIR,d)\n",
    "    dest = os.path.join(OUTPUT_DIR,d)\n",
    "    shutil.copytree(src,dest,dirs_exist_ok=True, symlinks=True)"
   ]
  },
  {
   "cell_type": "code",
   "execution_count": null,
   "id": "disabled-tract",
   "metadata": {
    "tags": []
   },
   "outputs": [],
   "source": [
    "# Copy the videos selected by the wanted_ids list to output file\n",
    "import shutil\n",
    "for f in wanted_ids:\n",
    "    if not os.path.isdir(os.path.join(OUTPUT_DIR,'videos',f)):\n",
    "        os.makedirs(os.path.join(OUTPUT_DIR,'videos',f))\n",
    "        src = os.path.join(PROJECT_DIR,'videos',f)\n",
    "        dest = os.path.join(OUTPUT_DIR,'videos',f)\n",
    "        shutil.copytree(src,dest,dirs_exist_ok=True)"
   ]
  },
  {
   "cell_type": "code",
   "execution_count": null,
   "id": "boolean-canyon",
   "metadata": {},
   "outputs": [],
   "source": [
    "#  Copy the files in the root directory\n",
    "import shutil\n",
    "for yt_id in wanted_ids:\n",
    "    map_index_to_slug = get_zim_data(yt_id)\n",
    "    if len(map_index_to_slug) > 0:\n",
    "        title = map_index_to_slug['slug']\n",
    "        src = os.path.join(PROJECT_DIR,title + '.html')\n",
    "        dest = OUTPUT_DIR + '/' + title + '.html'\n",
    "        if os.path.isfile(src) and not os.path.isfile(dest):\n",
    "            shutil.copyfile(src,dest)\n",
    "        else:\n",
    "            print('src:%s'%src)"
   ]
  },
  {
   "cell_type": "raw",
   "id": "functional-uzbekistan",
   "metadata": {
    "tags": []
   },
   "source": [
    "wanted_ids"
   ]
  },
  {
   "cell_type": "code",
   "execution_count": null,
   "id": "sorted-mixture",
   "metadata": {},
   "outputs": [],
   "source": [
    "# There are essential files that are needed in the zim\n",
    "needed = ['/favicon.jpg','/home.html','/profile.jpg']\n",
    "for f in needed:\n",
    "    cmd = '/bin/cp %s %s'%(PROJECT_DIR  + f,OUTPUT_DIR)\n",
    "    subprocess.run(cmd,shell=True)"
   ]
  },
  {
   "cell_type": "code",
   "execution_count": null,
   "id": "color-helena",
   "metadata": {},
   "outputs": [],
   "source": [
    "# Grab the meta data from the original zim \"M\" directory \n",
    "#   and create a script for zimwriterfs\n",
    "def get_file_value(path):\n",
    "    with open(path,'r') as fp:\n",
    "        \n",
    "        try:\n",
    "            return fp.read()\n",
    "        except:\n",
    "            return \"\"\n",
    "meta_data ={}\n",
    "meta_file_names = os.listdir(PROJECT_DIR + '/M/')\n",
    "for f in meta_file_names:\n",
    "    meta_data[f] = get_file_value(PROJECT_DIR + '/M/' + f)\n",
    "pprint(meta_data)\n",
    "    \n",
    "\n"
   ]
  },
  {
   "cell_type": "code",
   "execution_count": null,
   "id": "mathematical-concentration",
   "metadata": {
    "tags": []
   },
   "outputs": [],
   "source": [
    "# Write a new mapping from categories to vides (with some removed)\n",
    "print('Creating a new mapping from Categories to videos within each category.')\n",
    "outstr = ''\n",
    "for cat in zim_category_js:\n",
    "    outstr += 'var json_%s = [\\n'%cat\n",
    "    for video in range(len(zim_category_js[cat])):\n",
    "        if zim_category_js[cat][video].get('id','') in wanted_ids:\n",
    "            outstr += json.dumps(zim_category_js[cat][video],indent=1)\n",
    "            outstr += ','\n",
    "    outstr = outstr[:-1]\n",
    "    outstr += '];\\n'\n",
    "with open(OUTPUT_DIR + '/assets/data.js','w') as fp:\n",
    "    fp.write(outstr)\n",
    "    \n"
   ]
  },
  {
   "cell_type": "code",
   "execution_count": null,
   "id": "parental-faculty",
   "metadata": {},
   "outputs": [],
   "source": []
  },
  {
   "cell_type": "raw",
   "id": "alien-exemption",
   "metadata": {},
   "source": [
    "\n",
    "mk_zim_cmd = \"\"\"\n",
    "zimwriterfs --language=eng\\\n",
    "            --welcome=A/home.html\\\n",
    "            --favicon=I/favicon.jpg\\\n",
    "            --title=teded_en_%s\\\n",
    "            --description=\\\"TED-Ed Videos from YouTube Channel\\\"\\\n",
    "            --creator='Youtube Channel “TED-Ed”'\\\n",
    "            --publisher=IIAB\\\n",
    "            --name=TED-Ed\\\n",
    "             %s %s.zim\"\"\"%(PROJECT_NAME,OUTPUT_DIR,PROJECT_NAME)\n",
    "#with open(HOME + '/zims/' + PROJECT_NAME + '-zimwriter-cmd.sh','w') as fp:\n",
    "#    fp.write(mk_zim_cmd)"
   ]
  },
  {
   "cell_type": "code",
   "execution_count": null,
   "id": "radio-shame",
   "metadata": {},
   "outputs": [],
   "source": [
    "print('Creatng a new ZIM and Indexing it')\n",
    "\n",
    "from pathlib import Path\n",
    "from zimscraperlib.zim import make_zim_file\n",
    "from glob import glob\n",
    "from datetime import datetime\n",
    "\n",
    "original_name = glob(\"%s/*.zim\"%(SOURCE_DIR))\n",
    "fname = os.path.basename(original_name[0].replace('all','top'))\n",
    "print('fname:%s'%fname)\n",
    "#sys.exit(1)\n",
    "\n",
    "os.chdir(OUTPUT_DIR)\n",
    "if not os.path.isfile(os.path.join(NEW_ZIM_DIR,fname)):\n",
    "    make_zim_file(\n",
    "        build_dir=Path(OUTPUT_DIR),\n",
    "        fpath=Path(NEW_ZIM_DIR) / fname,\n",
    "        name=fname,\n",
    "        main_page= \"home.html\",\n",
    "        favicon=\"favicon.jpg\",\n",
    "        title=meta_data['Title'],\n",
    "        description=meta_data['Description'],\n",
    "        language=meta_data['Language'],\n",
    "        creator=meta_data['Creator'],\n",
    "        publisher=\"Internet In A Box\",\n",
    "        tags=meta_data['Tags'],\n",
    "        scraper=meta_data['Scraper'],\n",
    "    )\n"
   ]
  },
  {
   "cell_type": "code",
   "execution_count": null,
   "id": "apparent-american",
   "metadata": {},
   "outputs": [],
   "source": [
    "# Dump the zim file to get the metadata accumulated during it's creation\n",
    "cmd = f'zimdump dump --dir={PROOF_DIR} {NEW_ZIM_DIR}/{fname}'\n",
    "subprocess.run(cmd,shell=True)\n"
   ]
  },
  {
   "cell_type": "code",
   "execution_count": null,
   "id": "disciplinary-fever",
   "metadata": {},
   "outputs": [],
   "source": [
    "# Create a dict with the counts of file mime types in the ZIM\n",
    "with open(f'{PROOF_DIR}/M/Counter','r') as fp:\n",
    "    counts = fp.read().split(';')\n",
    "countdict = {}\n",
    "for nibble in counts:\n",
    "    nibble = nibble.split('=')\n",
    "    countdict[nibble[0]] = nibble[1]\n",
    "pprint(countdict)\n",
    "    "
   ]
  },
  {
   "cell_type": "code",
   "execution_count": null,
   "id": "cooperative-missile",
   "metadata": {},
   "outputs": [],
   "source": [
    "# Fetch the uuid from the new zim\n",
    "cmd = f'zimdump info {NEW_ZIM_DIR}/{fname}'\n",
    "infodump = subprocess.run(cmd,shell=True,capture_output=True)\n",
    "lines = infodump.stdout.decode('utf-8').split('\\n')\n",
    "for line in lines:\n",
    "    if line.split(' ')[0] == 'uuid:':\n",
    "        uuid = line.split(' ')[1].strip()\n",
    "if not uuid:\n",
    "    print('failed to get uuid')\n",
    "else:\n",
    "    print(\"uuid:%s\"%uuid)"
   ]
  },
  {
   "cell_type": "code",
   "execution_count": null,
   "id": "preceding-roulette",
   "metadata": {},
   "outputs": [],
   "source": [
    "# Create a catalog fragment for this video\n",
    "import base64\n",
    "uuidstr = uuid\n",
    "CATALOG_FRAG_DIR = '/opt/iiab/iiab-content/catalogs/zim-cat-fragments'\n",
    "WASABI_URL = 'https://s3.us-east-2.wasabisys.com'\n",
    "# Maintain the order of the zim catalog\n",
    "cat_keys = ['path','title','description','language','creator','publisher','tags','favicomMimeType',\n",
    "           'favicon','date','articleCount','mediaCount','size','url','name','flavour']\n",
    "outstr = '{\"%s\": {\\n'%uuidstr\n",
    "outstr += f'\"path\": \"../library/zims/content/{fname}\",\\n'\n",
    "outstr += f'\"title\": \"{meta_data[\"Title\"]}\",\\n'\n",
    "outstr += f'\"description\": \"{meta_data[\"Description\"]}\",\\n'\n",
    "outstr += f'\"language\": \"{meta_data[\"Language\"]}\",\\n'\n",
    "outstr += f'\"creator\": \"{meta_data[\"Creator\"]}\",\\n'\n",
    "outstr += f'\"publisher\": \"Internet In A box\",\\n'\n",
    "outstr += f'\"tags\": \"{meta_data[\"Tags\"]}\",\\n'\n",
    "outstr += f'\"faviconMimeType\": \"image/png\",\\n'\n",
    "with open(PROJECT_DIR + '/favicon.jpg','rb') as fp:\n",
    "    favi = fp.read()\n",
    "b64 = base64.b64encode(favi)\n",
    "outstr += f'\"favicon\": \"{b64}\",\\n'\n",
    "outstr += f'\"date\": \"{meta_data[\"Date\"]}\",\\n'\n",
    "outstr += f'\"articleCount\": \"{countdict[\"text/html\"]}\",\\n'\n",
    "outstr += f'\"mediaCount\": \"{countdict[\"video/webm\"]}\",\\n'\n",
    "size = os.path.getsize(f'{NEW_ZIM_DIR}/{fname}')\n",
    "outstr += f'\"size\": \"{size}\",\\n'\n",
    "outstr += f'\"url\": \"{WASABI_URL}/{fname}\",\\n'\n",
    "outstr += f'\"name\": \"{meta_data[\"Name\"]}\",\\n'\n",
    "outstr += f'\"flavour\": \"\"\\n'\n",
    "outstr += '}}'\n",
    "cat_fragment = '%s/%s'%(CATALOG_FRAG_DIR,fname.replace('.zim','.json'))\n",
    "with open(cat_fragment,'w') as fp:\n",
    "    fp.write(outstr)\n",
    "print(outstr)"
   ]
  },
  {
   "cell_type": "code",
   "execution_count": null,
   "id": "opponent-heritage",
   "metadata": {},
   "outputs": [],
   "source": [
    "# Now parse the file we just created to validate the json\n",
    "with open(cat_fragment,'r') as fp:\n",
    "    json_str = fp.read()\n",
    "frag_dict = json.loads(json_str)"
   ]
  },
  {
   "cell_type": "code",
   "execution_count": null,
   "id": "changing-origin",
   "metadata": {
    "jupyter": {
     "source_hidden": true
    },
    "tags": []
   },
   "outputs": [],
   "source": [
    "# Now recreate the iiab-zim-catalog by updating from zim fragments\n",
    "from glob import glob\n",
    "import json\n",
    "CATALOG_FRAG_DIR = '/opt/iiab/iiab-content/catalogs/zim-cat-fragments'\n",
    "ZIM_CATALOG = '/opt/iiab/iiab-content/catalogs/iiab-zim-cat.json'\n",
    "with open(ZIM_CATALOG,'r') as zcat:\n",
    "    zim_dict = json.loads(zcat.read())\n",
    "frags = glob(CATALOG_FRAG_DIR + '/*.json')\n",
    "for frag in frags:\n",
    "    with open(frag,'r') as fp:\n",
    "        frag_dict = json.loads(fp.read())\n",
    "    zim_dict.update(frag_dict)\n",
    "with open(ZIM_CATALOG,'w') as zcat:\n",
    "    zcat.write(json.dumps(zim_dict,indent=2))\n",
    "    "
   ]
  },
  {
   "cell_type": "markdown",
   "id": "governmental-toner",
   "metadata": {},
   "source": [
    "#### Notes on Install to VirtualBox Ubuntu20.04\n",
    "1. When I ran the IIAB jupyterhub role, I got a combination of Python packages that did not work.\n",
    "2. I went to an earlier installed Ubuntu20.04 install (in a virtualenv) that did work, and executed ```pip freeze > requirements.txt```. \n",
    "3. Transferred the requirements.txt file to the failing vBox instance, activated the venv ```source /opt/iiab/jupyberhub/bin/activate```, and ```pip install -r requirements.txt```. Then the iiab-factory/content/kiwix/zim-filter/start_remote_notebook.sh``` worked\n",
    "4. So the requirements.txt may be required until jupyterhub is fixed. It is in the repo in the same place as the noteboot."
   ]
  },
  {
   "cell_type": "code",
   "execution_count": null,
   "id": "streaming-pearl",
   "metadata": {},
   "outputs": [],
   "source": []
  }
 ],
 "metadata": {
  "kernelspec": {
   "display_name": "Python 3",
   "language": "python",
   "name": "python3"
  },
  "language_info": {
   "codemirror_mode": {
    "name": "ipython",
    "version": 3
   },
   "file_extension": ".py",
   "mimetype": "text/x-python",
   "name": "python",
   "nbconvert_exporter": "python",
   "pygments_lexer": "ipython3",
   "version": "3.8.5"
  },
  "toc-autonumbering": false,
  "toc-showcode": true,
  "toc-showmarkdowntxt": false,
  "toc-showtags": false
 },
 "nbformat": 4,
 "nbformat_minor": 5
}
