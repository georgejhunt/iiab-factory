{
 "cells": [
  {
   "cell_type": "markdown",
   "id": "patient-utilization",
   "metadata": {},
   "source": [
    "## Modifying ZIM Files\n",
    "\n",
    "#### The Larger Picture\n",
    "* Kiwix scrapes many useful sources, but sometimes the chunks are too big for IIAB.\n",
    "* Using the zimdump program, the highly compressed ZIM files can be flattened into a file tree, modified, and then re-packaged as a ZIM file.\n",
    "* This Notebook has a collection of tools which help in the above process.\n"
   ]
  },
  {
   "cell_type": "markdown",
   "id": "relevant-easter",
   "metadata": {},
   "source": [
    "#### How to Use this notebook\n",
    "* There are install steps that only need to happen once. The cells containing these steps are set to \"Raw\" in the right most dropdown so that they do not execute automatically each time the notebook starts.\n",
    "* The following bash script successfully installed zimtools on Ubuntu 20.04.It only needs to be run once. I think it's easier to do it from the command line, with tab completion. In a terminal, do the following:\n",
    "\n",
    "```\n",
    "cd /opt/iiab/iiab-factory/content/kiwix/generic/ \n",
    "sudo ./install-zim-tools.sh\n",
    "```"
   ]
  },
  {
   "cell_type": "markdown",
   "id": "legendary-cliff",
   "metadata": {},
   "source": [
    "* **Some conventions**: Jupyter does not want to run as root. We will create a file structure that exists in the users home directory -- so the application will be able to write all the files it needs to function.\n",
    "```\n",
    "<home directory>\n",
    "├── new_zim\n",
    "├── tree\n",
    "└── working\n",
    "```\n",
    "In general terms, this program will dump the zim data into \"tree\", modify it, gather additional data into \"working\"\n",
    ", and create a ZIM file in \"new_zim\"\n",
    "* For testing purposes, the user will need to link from the server's document root to her home directory (so that the nginx http server in IIAB will serve the candidate in \"tree):\n",
    "\n",
    "```\n",
    "cd\n",
    "mkdir -p zimtest\n",
    "ln -s /home/<user name>/zimtest /library/www/html/zimtest \n",
    "```\n"
   ]
  },
  {
   "cell_type": "markdown",
   "id": "designed-healthcare",
   "metadata": {},
   "source": [
    "#### Installation Notes to myself\n",
    "* Installing on Windows 10 insider preview WSL2. Used https://towardsdatascience.com/configuring-jupyter-notebook-in-windows-subsystem-linux-wsl2-c757893e9d69.\n",
    "* First tried installing miniconda, and then installing jupyterlab with it.\n",
    "* Wanted VIM bindings to edit cells, but jupyterlab version insralled by conda was too old for jupyter-vim extenion. Wound up deleting old version with conda, and used pip to install both.\n",
    "* Jupyterlab seems to make the current directory its root. I created a notebook directory, and aways start jupyter lab from my home directiry\n",
    "* Discovered that I could enable writing by non-root group in the iiab-factory repo, and continue to use git for version control. Needed to make symbolic link from ~/miniconda to iiab-factory.\n",
    "* Reminder: Start jupyterlav in console via \"jupyter lab --no-browser\", and then pasteing the html link displayed into my browser."
   ]
  },
  {
   "cell_type": "markdown",
   "id": "tender-thanksgiving",
   "metadata": {},
   "source": [
    "#### Declare input and output\n",
    "* The ZIM file names tend to be long and hard to remember. The PROJECT_NAME, initialized below, is used to create path names. All of the output of the zimdump program is placed in \\<home\\>/zimtest/\\<PROJECT_NAME\\>/tree. All if the intermediate downloads, and data, are placed in \\<home\\>/zimtest/\\<PROJECT_NAME\\>/working. If you use the IIAB Admin Console to download ZIMS, you will find them in /library/zims/content/."
   ]
  },
  {
   "cell_type": "code",
   "execution_count": 17,
   "id": "listed-diesel",
   "metadata": {
    "tags": []
   },
   "outputs": [],
   "source": [
    "# -*- coding: utf-8 -*-\n",
    "from __future__ import unicode_literals\n",
    "import os,sys\n",
    "import json\n",
    "import youtube_dl\n",
    "import pprint as pprint\n",
    "\n",
    "# Declare a short project name (ZIM files are often long strings\n",
    "PROJECT_NAME = 'teded'\n",
    "# Input the full path of the downloaded ZIM file\n",
    "ZIM_PATH = '/home/ghunt/zimtest/teded/zim-src/teded_en_all_2020-06.zim'\n",
    "\n",
    "# The rest of the paths are computed and represent the standard layout\n",
    "# Jupyter sets a working director as part of it's setup. We need it's value\n",
    "HOME = os.environ['HOME']\n",
    "WORKING_DIR = HOME + '/zimtest/' + PROJECT_NAME + '/working'\n",
    "PROJECT_DIR = HOME + '/zimtest/' + PROJECT_NAME + '/tree'\n",
    "OUTPUT_DIR = HOME + '/zimtest/' + PROJECT_NAME + '/new-zim'\n",
    "dir_list = ['new-zim','tree','working/video_json']\n",
    "for f in dir_list: \n",
    "    if not os.path.isdir(HOME + '/zimtest/' + PROJECT_NAME +'/' + f):\n",
    "       os.makedirs(HOME + '/zimtest/' + PROJECT_NAME +'/' + f)\n",
    "\n",
    "# abort if the input file cannot be found\n",
    "if not os.path.exists(ZIM_PATH):\n",
    "    print('%s path not found. Quitting. . .'%ZIM_PATH)\n",
    "    exit\n"
   ]
  },
  {
   "cell_type": "code",
   "execution_count": 2,
   "id": "least-smoke",
   "metadata": {
    "tags": []
   },
   "outputs": [],
   "source": [
    "# First we need to get a current copy of the script\n",
    "dest = HOME + '/zimtest'\n",
    "%cp /opt/iiab/iiab-factory/content/kiwix/de-namespace.sh {dest} "
   ]
  },
  {
   "cell_type": "code",
   "execution_count": 3,
   "id": "fundamental-stereo",
   "metadata": {
    "tags": []
   },
   "outputs": [
    {
     "name": "stdout",
     "output_type": "stream",
     "text": [
      "+ set -e\n",
      "+ '[' 2 -lt 2 ']'\n",
      "+ '[' '!' -f /home/ghunt/zimtest/teded/zim-src/teded_en_all_2020-06.zim ']'\n",
      "++ ls /home/ghunt/zimtest/teded/tree\n",
      "++ wc -l\n",
      "+ contents=1742\n",
      "+ '[' 1742 -ne 0 ']'\n",
      "+ echo 'The /home/ghunt/zimtest/teded/tree is not empty. Delete if you want to repeat this step.'\n",
      "The /home/ghunt/zimtest/teded/tree is not empty. Delete if you want to repeat this step.\n",
      "+ exit 0\n"
     ]
    }
   ],
   "source": [
    "# The following command will zimdump to the \"tree\" directory\n",
    "#   and remove the namespace directories\n",
    "# It will return without doing anything if the \"tree' is not empty\n",
    "progname = HOME + '/zimtest/de-namespace.sh'\n",
    "!{progname} {ZIM_PATH} {PROJECT_NAME}"
   ]
  },
  {
   "cell_type": "markdown",
   "id": "printable-strengthening",
   "metadata": {},
   "source": [
    "* The next step is a manual one that you will need to do with your browser. That is: to verify that after the namespace directories were removed, and all of the html links have been adjusted correctly. Point your browser to <hostname>/zimtest/\\<PROJECT_NAME\\>/tree.\n",
    "* If everything is working, it's time to go fetch the information about each video from youtube."
   ]
  },
  {
   "cell_type": "code",
   "execution_count": null,
   "id": "timely-football",
   "metadata": {},
   "outputs": [],
   "source": []
  },
  {
   "cell_type": "code",
   "execution_count": 4,
   "id": "recorded-pattern",
   "metadata": {},
   "outputs": [
    {
     "name": "stdout",
     "output_type": "stream",
     "text": [
      "1728 skipped and 0 downloaded\n"
     ]
    }
   ],
   "source": [
    "ydl = youtube_dl.YoutubeDL()\n",
    "\n",
    "downloaded = 0\n",
    "skipped = 0\n",
    "# Create a list of youtube id's\n",
    "yt_id_list = os.listdir(PROJECT_DIR + '/videos/')\n",
    "for yt_id in iter(yt_id_list):\n",
    "    if os.path.exists(WORKING_DIR + '/video_json/' + yt_id + '.json'):\n",
    "        # skip over items that are already downloadd\n",
    "        skipped += 1\n",
    "        continue\n",
    "    with ydl:\n",
    "       result = ydl.extract_info(\n",
    "                'http://www.youtube.com/watch?v=%s'%yt_id,\n",
    "                download=False # We just want to extract the info\n",
    "                )\n",
    "       downloaded += 1\n",
    "\n",
    "    with open(WORKING_DIR + '/video_json/' + yt_id + '.json','w') as fp:\n",
    "        fp.write(json.dumps(result))\n",
    "    #pprint.pprint(result['upload_date'],result['view_count'])\n",
    "print('%s skipped and %s downloaded'%(skipped,downloaded))"
   ]
  },
  {
   "cell_type": "code",
   "execution_count": 80,
   "id": "civic-cologne",
   "metadata": {},
   "outputs": [],
   "source": [
    "def get_assets_data():\n",
    "    # the file <root>/assets/data.js holds the category to video mappings\n",
    "    outstr = ''\n",
    "    data = {}\n",
    "    with open(PROJECT_DIR + '/assets/data.js', 'r') as fp:\n",
    "    #with open(OUTPUT_DIR + '/assets/data.js', 'r') as fp:\n",
    "        while True:\n",
    "            line = fp.readline()\n",
    "            if not line:\n",
    "                break\n",
    "            if line.startswith('var'):\n",
    "                if len(outstr) > 1:\n",
    "                    # clip off the trailing semicolon\n",
    "                    outstr = outstr[:-2]\n",
    "                    try:\n",
    "                        data[cat] = json.loads(outstr)\n",
    "                    except Exception:\n",
    "                        print('Parse error: %s'%outstr[:80])\n",
    "                        exit\n",
    "                cat = line[9:-4]\n",
    "                outstr = '['\n",
    "            else:\n",
    "                outstr += line\n",
    "    return data\n",
    "\n",
    "zim_category_js = get_assets_data()\n",
    "\n",
    "def get_zim_data(yt_id):\n",
    "    rtn_dict = {}\n",
    "    for cat in zim_category_js:\n",
    "        for video in range(len(zim_category_js[cat])):\n",
    "            if zim_category_js[cat][video]['id'] == yt_id:\n",
    "                rtn_dict = zim_category_js[cat][video]\n",
    "                break\n",
    "        if len(rtn_dict) > 0: break\n",
    "    return rtn_dict"
   ]
  },
  {
   "cell_type": "code",
   "execution_count": 68,
   "id": "thermal-greece",
   "metadata": {
    "scrolled": true,
    "tags": []
   },
   "outputs": [
    {
     "name": "stdout",
     "output_type": "stream",
     "text": [
      "actions_and_reactions  48\n",
      "humans_vs_viruses  17\n",
      "the_world_of_sports  12\n",
      "a_day_in_the_life  11\n",
      "even_more_ted_ed_originals  160\n",
      "math_in_real_life  84\n",
      "moments_of_vision  12\n",
      "the_way_we_think  38\n",
      "superhero_science  7\n",
      "ted_ed_riddles_season_1  8\n",
      "love_actually  6\n",
      "the_wonders_of_earth  13\n",
      "ted_ed_weekend_student_talks  26\n",
      "everyone_has_a_story  16\n",
      "ted_ed_riddles_season_2  8\n",
      "ted_ed_riddles_season_4  9\n",
      "awesome_nature  146\n",
      "the_big_questions  42\n",
      "math_of_the_impossible  12\n",
      "the_artist_s_palette  19\n",
      "animation_basics  12\n",
      "getting_under_our_skin  151\n",
      "questions_no_one_yet_knows_the_answers_to  8\n",
      "think_like_a_coder  9\n",
      "uploads_from_ted_ed  1680\n",
      "new_ted_ed_originals  864\n",
      "exploring_the_senses  10\n",
      "hone_your_media_literacy_skills  7\n",
      "well_behaved_women_seldom_make_history  36\n",
      "student_voices_from_tedtalksed  3\n",
      "mind_matters  44\n",
      "out_of_this_world  41\n",
      "behind_the_curtain  30\n",
      "government_declassified  33\n",
      "inventions_that_shaped_history  46\n",
      "brain_discoveries  13\n",
      "reading_between_the_lines  54\n",
      "visualizing_data  11\n",
      "integrated_photonics  3\n",
      "playing_with_language  38\n",
      "mysteries_of_vernacular  26\n",
      "how_things_work  77\n",
      "can_you_solve_this_riddle  49\n",
      "the_works_of_william_shakespeare  9\n",
      "the_basics_of_quantum_mechanics  10\n",
      "cern_space_time_101  3\n",
      "ted_ed_loves_trees  8\n",
      "facing_our_ugly_history  3\n",
      "the_great_thanksgiving_car_ride  8\n",
      "understanding_genetics  12\n",
      "more_book_recommendations_from_ted_ed  37\n",
      "tedyouth_talks  41\n",
      "ted_ed_professional_development  5\n",
      "ted_ed_riddles_season_3  7\n",
      "history_vs  11\n",
      "you_are_what_you_eat  13\n",
      "our_changing_climate  29\n",
      "the_power_of_nature  6\n",
      "the_writer_s_workshop  25\n",
      "troubleshooting_the_world  86\n",
      "before_and_after_einstein  47\n",
      "more_money_more_problems  8\n",
      "ecofying_cities  10\n",
      "the_world_s_people_and_places  125\n",
      "more_ted_ed_originals  174\n",
      "making_the_invisible_visible  9\n",
      "there_s_a_poem_for_that_season_1  12\n",
      "cyber_influence_power  29\n",
      "discovering_the_deep  28\n",
      "national_teacher_day  19\n",
      "Number of Videos in all categories -- perhaps used more than once:4713\n"
     ]
    }
   ],
   "source": [
    "tot=0\n",
    "for cat in zim_category_js:\n",
    "    tot += len(zim_category_js[cat])\n",
    "    print(cat, len(zim_category_js[cat]))\n",
    "print('Number of Videos in all categories -- perhaps used more than once:%d'%tot)"
   ]
  },
  {
   "cell_type": "code",
   "execution_count": 69,
   "id": "latest-family",
   "metadata": {
    "tags": []
   },
   "outputs": [
    {
     "name": "stdout",
     "output_type": "stream",
     "text": [
      "Expecting value: line 1 column 1 (char 0)\n",
      "\n",
      "Expecting value: line 1 column 1 (char 0)\n",
      "\n"
     ]
    }
   ],
   "source": [
    "import sqlite3\n",
    "class Sqlite():\n",
    "   def __init__(self, filename):\n",
    "      self.conn = sqlite3.connect(filename)\n",
    "      self.conn.row_factory = sqlite3.Row\n",
    "      self.conn.text_factory = str\n",
    "      self.c = self.conn.cursor()\n",
    "    \n",
    "   def __del__(self):\n",
    "      self.conn.commit()\n",
    "      self.c.close()\n",
    "      del self.conn\n",
    "\n",
    "def get_video_json(path):\n",
    "    with open(path,'r') as fp:\n",
    "        try:\n",
    "            jsonstr = fp.read()\n",
    "            #print(path)\n",
    "            modules = json.loads(jsonstr.strip())\n",
    "        except Exception as e:\n",
    "            print(e)\n",
    "            print(jsonstr[:80])\n",
    "            return {}\n",
    "    return modules\n",
    "\n",
    "def video_size(yt_id):\n",
    "    return os.path.getsize(PROJECT_DIR + '/videos/' + yt_id + '/video.webm')\n",
    "\n",
    "def make_directory(path):\n",
    "    if not os.path.exists(path):\n",
    "        os.makedirs(path)\n",
    "\n",
    "def download_file(url,todir):\n",
    "    local_filename = url.split('/')[-1]\n",
    "    r = requests.get(url)\n",
    "    f = open(todir + '/' + local_filename, 'wb')\n",
    "    for chunk in r.iter_content(chunk_size=512 * 1024):\n",
    "        if chunk:\n",
    "            f.write(chunk)\n",
    "    f.close()\n",
    "\n",
    "def initialize_db():\n",
    "    sql = 'CREATE TABLE IF NOT EXISTS video_info ('\\\n",
    "            'yt_id TEXT UNIQUE, zim_size INTEGER, view_count INTEGER, average_rating REAL,slug TEXT)'\n",
    "    db.c.execute(sql)\n",
    "\n",
    "db = Sqlite(WORKING_DIR + '/zim_video_info.sqlite')\n",
    "initialize_db()\n",
    "yt_id_list = os.listdir(WORKING_DIR + '/video_json/' )\n",
    "for yt_id in iter(yt_id_list):\n",
    "    zim_data = get_zim_data(yt_id[:-5])\n",
    "    slug = zim_data['slug']\n",
    "    data = get_video_json(WORKING_DIR + \"/video_json/\" + yt_id)\n",
    "    if len(data) == 0:continue\n",
    "    vsize = video_size(yt_id[:-5])\n",
    "    view_count = data['view_count']\n",
    "    average_rating = data['average_rating']\n",
    "    sql = 'INSERT OR REPLACE INTO video_info VALUES (?,?,?,?,?)'\n",
    "    db.c.execute(sql,[yt_id[:-5],vsize,view_count,average_rating,slug])\n",
    "db.conn.commit()"
   ]
  },
  {
   "cell_type": "code",
   "execution_count": null,
   "id": "compatible-signal",
   "metadata": {},
   "outputs": [],
   "source": []
  },
  {
   "cell_type": "code",
   "execution_count": 8,
   "id": "narrative-hundred",
   "metadata": {
    "scrolled": true,
    "tags": []
   },
   "outputs": [
    {
     "name": "stdout",
     "output_type": "stream",
     "text": [
      "yt_id|zim_size|view_count|average_rating|slug\n",
      "eFCk3qWmCoo|29780783|13594|4.9529409|how_arduino_is_open_sourcing_imagination_massimo_banzi\n",
      "0Wb5obt7QO0|15978414|6924|4.9375|how_we_found_the_giant_squid_edith_widder\n"
     ]
    }
   ],
   "source": [
    "sqlite_db = WORKING_DIR + '/zim_video_info.sqlite'\n",
    "!sqlite3 {sqlite_db} '.headers on' 'select * from video_info limit 2'"
   ]
  },
  {
   "cell_type": "markdown",
   "id": "native-finding",
   "metadata": {},
   "source": [
    "#### Select the cutoff using view count and total size\n",
    "* Order the videos by view count. Then select the sum line in the that has the target sum."
   ]
  },
  {
   "cell_type": "code",
   "execution_count": null,
   "id": "comprehensive-producer",
   "metadata": {},
   "outputs": [],
   "source": [
    "def human_readable(num):\n",
    "    # return 3 significant digits and unit specifier\n",
    "    num = float(num)\n",
    "    units = [ '','K','M','G']\n",
    "    for i in range(4):\n",
    "        if num<10.0:\n",
    "            return \"%.2f%s\"%(num,units[i])\n",
    "        if num<100.0:\n",
    "            return \"%.1f%s\"%(num,units[i])\n",
    "        if num < 1000.0:\n",
    "            return \"%.0f%s\"%(num,units[i])\n",
    "        num /= 1024.0\n",
    "\n",
    "sql = 'select slug,zim_size,view_count from video_info order by view_count desc'\n",
    "tot_sum = 0\n",
    "db.c.execute(sql)\n",
    "rows = db.c.fetchall()\n",
    "print('%60s %6s %6s %6s'%('Name','Size','Sum','Views'))\n",
    "for row in rows:\n",
    "    tot_sum += row['zim_size']\n",
    "    print('%60s %6s %6s %6s'%(row['slug'][:60],human_readable(row['zim_size']),\\\n",
    "                              human_readable(tot_sum),human_readable(row['view_count']),))"
   ]
  },
  {
   "cell_type": "code",
   "execution_count": null,
   "id": "protective-tuner",
   "metadata": {},
   "outputs": [],
   "source": []
  },
  {
   "cell_type": "markdown",
   "id": "accredited-minister",
   "metadata": {},
   "source": [
    "* Enter the view count minimum, which will generate a list of wanted youtube id's."
   ]
  },
  {
   "cell_type": "code",
   "execution_count": 14,
   "id": "challenging-contrary",
   "metadata": {},
   "outputs": [
    {
     "name": "stdout",
     "output_type": "stream",
     "text": [
      "<class 'int'>\n"
     ]
    }
   ],
   "source": [
    "views_min = 375000\n",
    "print(type(views_min))\n",
    "wanted_ids = []\n",
    "sql = 'SELECT yt_id from video_info where view_count > ?'\n",
    "db.c.execute(sql,[views_min,])\n",
    "rows = db.c.fetchall()\n",
    "for row in rows:\n",
    "    wanted_ids.append(row['yt_id'])"
   ]
  },
  {
   "cell_type": "markdown",
   "id": "considerable-biodiversity",
   "metadata": {},
   "source": [
    "* Now let's start building up the output directory\n"
   ]
  },
  {
   "cell_type": "code",
   "execution_count": 26,
   "id": "inside-spyware",
   "metadata": {},
   "outputs": [],
   "source": [
    "import shutil\n",
    "# copy the default top level directories (these were in the zim's \"-\" directory )\n",
    "cpy_dirs = ['assets','cache','channels']\n",
    "for d in cpy_dirs:\n",
    "    if not os.isdir(os.path.join(OUTPUT_DIR,d))\n",
    "        os.makedirs(os.path.join(OUTPUT_DIR,d))\n",
    "    src = os.path.join(PROJECT_DIR,d)\n",
    "    dest = os.path.join(OUTPUT_DIR,d)\n",
    "    shutil.copytree(src,dest,dirs_exist_ok=True)"
   ]
  },
  {
   "cell_type": "code",
   "execution_count": 31,
   "id": "catholic-development",
   "metadata": {},
   "outputs": [],
   "source": [
    "# Copy the videos selected by the wanted_ids list to output file\n",
    "for f in wanted_ids:\n",
    "    if not os.path.isdir(os.path.join(OUTPUT_DIR,'videos',f)):\n",
    "        os.makedirs(os.path.join(OUTPUT_DIR,'videos',f))\n",
    "    src = os.path.join(PROJECT_DIR,'videos',f)\n",
    "    dest = os.path.join(OUTPUT_DIR,'videos',f)\n",
    "    shutil.copytree(src,dest,dirs_exist_ok=True)"
   ]
  },
  {
   "cell_type": "code",
   "execution_count": null,
   "id": "hourly-inspection",
   "metadata": {},
   "outputs": [],
   "source": [
    "# Grab the meta data from the original zim \"M\" directory \n",
    "#   and create a script for zimwriterfs\n",
    "def get_file_value(path):\n",
    "    with open(path,'r') as fp:\n",
    "        \n",
    "        try:\n",
    "            return fp.read()\n",
    "        except:\n",
    "            return \"\"\n",
    "meta_file_names = []        \n",
    "\n"
   ]
  },
  {
   "cell_type": "code",
   "execution_count": 43,
   "id": "appointed-sauce",
   "metadata": {},
   "outputs": [],
   "source": [
    "# Copy the top level html files \n",
    "for f in iter(os.listdir(PROJECT_DIR)):\n",
    "    if os.path.isfile(os.path.join(PROJECT_DIR,f)):\n",
    "        src = os.path.join(PROJECT_DIR,f)\n",
    "        !cp {src} {OUTPUT_DIR}"
   ]
  },
  {
   "cell_type": "code",
   "execution_count": 84,
   "id": "prepared-auction",
   "metadata": {},
   "outputs": [],
   "source": [
    "# Write a new mapping from categories to vides (with some removed)\n",
    "outstr = ''\n",
    "for cat in zim_category_js:\n",
    "    outstr += 'var json_%s = [\\n'%cat\n",
    "    for video in range(len(zim_category_js[cat])):\n",
    "        if zim_category_js[cat][video].get('id','') in wanted_ids:\n",
    "            outstr += json.dumps(zim_category_js[cat][video],indent=1)\n",
    "            outstr += ','\n",
    "    outstr = outstr[:-1]\n",
    "    outstr += '];\\n'\n",
    "with open(OUTPUT_DIR + '/assets/data.js','w') as fp:\n",
    "    fp.write(outstr)\n"
   ]
  },
  {
   "cell_type": "code",
   "execution_count": null,
   "id": "closing-dominican",
   "metadata": {},
   "outputs": [],
   "source": []
  },
  {
   "cell_type": "code",
   "execution_count": 82,
   "id": "collect-referral",
   "metadata": {},
   "outputs": [],
   "source": [
    "def get_assets_data():\n",
    "    # the file <root>/assets/data.js holds the category to video mappings\n",
    "    outstr = ''\n",
    "    data = {}\n",
    "    #with open(PROJECT_DIR + '/assets/data.js', 'r') as fp:\n",
    "    with open(OUTPUT_DIR + '/assets/data.js', 'r') as fp:\n",
    "        while True:\n",
    "            line = fp.readline()\n",
    "            if not line:\n",
    "                break\n",
    "            if line.startswith('var'):\n",
    "                if len(outstr) > 1:\n",
    "                    # clip off the trailing semicolon\n",
    "                    outstr = outstr[:-2]\n",
    "                    try:\n",
    "                        data[cat] = json.loads(outstr)\n",
    "                    except Exception as e:\n",
    "                        print('Parse error: %s'%e)\n",
    "                        exit\n",
    "                cat = line[9:-4]\n",
    "                outstr = '['\n",
    "            else:\n",
    "                outstr += line\n",
    "    return data\n",
    "\n",
    "test_category_js = get_assets_data()\n",
    "\n",
    "def get_zim_data(yt_id):\n",
    "    rtn_dict = {}\n",
    "    for cat in test_category_js:\n",
    "        for video in range(len(test_category_js[cat])):\n",
    "            if test_category_js[cat][video]['id'] == yt_id:\n",
    "                rtn_dict = test_category_js[cat][video]\n",
    "                break\n",
    "        if len(rtn_dict) > 0: break\n",
    "    return rtn_dict"
   ]
  },
  {
   "cell_type": "code",
   "execution_count": 83,
   "id": "mature-precipitation",
   "metadata": {
    "scrolled": true,
    "tags": []
   },
   "outputs": [
    {
     "name": "stdout",
     "output_type": "stream",
     "text": [
      "ns_and_reactions   32\n",
      "s_vs_viruses   16\n",
      "orld_of_sports   10\n",
      "_in_the_life   11\n",
      "more_ted_ed_originals   95\n",
      "in_real_life   72\n",
      "ts_of_vision   8\n",
      "ay_we_think   33\n",
      "hero_science   6\n",
      "d_riddles_season_1   8\n",
      "actually   5\n",
      "onders_of_earth   12\n",
      "one_has_a_story   10\n",
      "d_riddles_season_2   8\n",
      "d_riddles_season_4   9\n",
      "me_nature   101\n",
      "ig_questions   27\n",
      "of_the_impossible   12\n",
      "rtist_s_palette   17\n",
      "tion_basics   3\n",
      "ng_under_our_skin   135\n",
      "ions_no_one_yet_knows_the_answers_to   8\n",
      "_like_a_coder   3\n",
      "ds_from_ted_ed   981\n",
      "ed_ed_originals   746\n",
      "ring_the_senses   10\n",
      "your_media_literacy_skills   6\n",
      "behaved_women_seldom_make_history   28\n",
      "matters   36\n",
      "f_this_world   31\n",
      "d_the_curtain   11\n",
      "nment_declassified   27\n",
      "tions_that_shaped_history   36\n",
      "_discoveries   12\n",
      "ng_between_the_lines   43\n",
      "lizing_data   5\n",
      "rated_photonics   2\n",
      "ng_with_language   21\n",
      "hings_work   46\n",
      "ou_solve_this_riddle   49\n",
      "orks_of_william_shakespeare   7\n",
      "asics_of_quantum_mechanics   9\n",
      "space_time_101   3\n",
      "d_loves_trees   5\n",
      "g_our_ugly_history   3\n",
      "reat_thanksgiving_car_ride   8\n",
      "standing_genetics   11\n",
      "book_recommendations_from_ted_ed   31\n",
      "uth_talks   5\n",
      "d_riddles_season_3   7\n",
      "ry_vs   11\n",
      "re_what_you_eat   13\n",
      "hanging_climate   18\n",
      "ower_of_nature   5\n",
      "riter_s_workshop   23\n",
      "leshooting_the_world   9\n",
      "e_and_after_einstein   39\n",
      "money_more_problems   8\n",
      "ing_cities   7\n",
      "orld_s_people_and_places   111\n",
      "ted_ed_originals   110\n",
      "g_the_invisible_visible   5\n",
      "_s_a_poem_for_that_season_1   1\n",
      "_influence_power   2\n",
      "vering_the_deep   14\n",
      "Number of Videos in all categories -- perhaps used more than once:3196\n"
     ]
    }
   ],
   "source": [
    "tot=0\n",
    "for cat in test_category_js:\n",
    "    tot += len(test_category_js[cat])\n",
    "    print(cat, len(test_category_js[cat]))\n",
    "print('Number of Videos in all categories -- perhaps used more than once:%d'%tot)"
   ]
  },
  {
   "cell_type": "code",
   "execution_count": null,
   "id": "chemical-franchise",
   "metadata": {},
   "outputs": [],
   "source": []
  }
 ],
 "metadata": {
  "kernelspec": {
   "display_name": "Python 3",
   "language": "python",
   "name": "python3"
  },
  "language_info": {
   "codemirror_mode": {
    "name": "ipython",
    "version": 3
   },
   "file_extension": ".py",
   "mimetype": "text/x-python",
   "name": "python",
   "nbconvert_exporter": "python",
   "pygments_lexer": "ipython3",
   "version": "3.9.1"
  },
  "toc-autonumbering": true,
  "toc-showmarkdowntxt": false,
  "toc-showtags": false
 },
 "nbformat": 4,
 "nbformat_minor": 5
}
