{
 "cells": [
  {
   "cell_type": "markdown",
   "id": "recognized-investor",
   "metadata": {},
   "source": [
    "### Using Openzim Youtube2zim program\n",
    "* This program is written by Kiwix and has a variety of methods for specifying which videos to include in a ZIM file. Unfortunately, a flat file of youtube ID's is not one of them. But one of the input specifications that is available is to specify a \"Youtube Playlist\".\n",
    "* Getting permission to write a playlist from a python program is a task.\n",
    "    1. The written playlist can only be written to by a user who has a google account, and who also owns a Youtube Channel.\n",
    "    2. with proper credentials, the owner can create a playlist of up to 5000 videos in her own channel.\n",
    "    3. Writing to youtube requires an oauth2 credential. The steps I found necessary:\n",
    "        1. Go to \"console.developer.google.com\" to create a project.\n",
    "        2. Within that project create a key (for reading public data) and a oauth2 credential for writing.\n",
    "        3. The credential needs to specify a callback where google can return a software key which includes the permission that the owner of a Youtube channel gives to the python program. The callback I used was a flask program at iiab-factory/content/kiwix/ted-tools/flask_oauth_youtuve.py. And the URL created by this flask program needs to be specified to google during the process of creating the oauth2 credential as \"http://localhost:8088/oauth2callback\".\n",
    "        4. The flask program writes a file in the current directory \"zim_playbook_oauth_credentials\".\n",
    "* Very useful:  https://github.com/youtube/api-samples/tree/master/python"
   ]
  },
  {
   "cell_type": "code",
   "execution_count": 5,
   "id": "strong-mission",
   "metadata": {},
   "outputs": [],
   "source": [
    "# -*- coding: utf-8 -*-\n",
    "# This cell defines GLOBALS and the ENV\n",
    "\n",
    "import os,sys\n",
    "import json\n",
    "\n",
    "PREFIX = os.environ.get('ZIM_PREFIX','/ext/zims')\n",
    "# Declare a short project name (ZIM files are often long strings\n",
    "#PROJECT_NAME = 'ted-kiwix'\n",
    "PROJECT_NAME = 'youtube'\n",
    "PREFIX = os.environ.get('ZIM_PREFIX','/ext/zims')\n",
    "TARGET_SIZE =10000000000  #10GB\n",
    "# Input the full path of the downloaded ZIM file\n",
    "ZIM_PATH = '%s/%s/working/wanted_list.csv'%(PREFIX,PROJECT_NAME,) \n",
    "# The rest of the paths are computed and represent the standard layout\n",
    "# Jupyter sets a working director as part of it's setup. We need it's value\n",
    "HOME = os.environ['HOME']\n",
    "WORKING_DIR = PREFIX + '/' + PROJECT_NAME + '/working'\n",
    "PROJECT_DIR = PREFIX + '/' + PROJECT_NAME + '/tree'\n",
    "OUTPUT_DIR = PREFIX + '/' + PROJECT_NAME + '/output_tree'\n",
    "SOURCE_DIR = PREFIX + '/' + PROJECT_NAME + '/zim-src'\n",
    "\n",
    "# Create the directory structure for this project\n",
    "dir_list = ['output_tree','tree','working/video_json','zim-src'] \n",
    "for f in dir_list:\n",
    "    if not os.path.isdir(PREFIX + '/' + PROJECT_NAME +'/' + f): os.makedirs(PREFIX + '/' + PROJECT_NAME +'/' + f) \n",
    "# abort if the input file cannot be found\n",
    "if not os.path.exists(ZIM_PATH):\n",
    "    print('%s path not found. Quitting. . .'%ZIM_PATH)\n",
    "    exit\n"
   ]
  },
  {
   "cell_type": "code",
   "execution_count": 6,
   "id": "acute-nevada",
   "metadata": {},
   "outputs": [],
   "source": [
    "# This cell creates an authenticated youtube object which has methods described in:\n",
    "#   in https://googleapis.github.io/google-api-python-client/docs/dyn/youtube_v3.html\n",
    "\n",
    "import google.oauth2.credentials\n",
    "import googleapiclient.discovery\n",
    "\n",
    "# The User validated google credentials are in my home directory\n",
    "home = os.environ['HOME']\n",
    "with open(\"%s/zim_playbook_oauth_credentials\"%home,'r') as fp:\n",
    "    credentials = json.loads(fp.read())\n",
    "    \n",
    "# Load credentials from file\n",
    "credentials = google.oauth2.credentials.Credentials(**credentials)\n",
    " \n",
    "youtube = googleapiclient.discovery.build(\n",
    "    'youtube', 'v3', credentials=credentials)\n",
    "\n",
    "channel = youtube.channels().list(mine=True, part='snippet').execute()\n",
    "\n",
    "# check that the authentication worked\n",
    "#print(json.dumps(channel,indent=2))"
   ]
  },
  {
   "cell_type": "code",
   "execution_count": 7,
   "id": "metropolitan-coordinate",
   "metadata": {},
   "outputs": [],
   "source": [
    "# Playlist id for youtube2zim\n",
    "CURRENT_PLAYLIST_ID = \"PLs2auPpToJpbDRe9sh5nbeXRviOI4HpAL\"\n",
    "#PLs2auPpToJpb0ttyGab3c5h5XUn7dXE-9\n",
    "def add_playlist(youtube):\n",
    "  body = dict(\n",
    "    snippet=dict(\n",
    "      title=\"youtube2zim\",\n",
    "      description=\"This is a temporary Playslist which is used as source for the Openzim 'youtube2zim' program.\"\n",
    "    ),\n",
    "    status=dict(\n",
    "      privacyStatus='public'\n",
    "    ) \n",
    "  ) \n",
    "  playlists_insert_response = youtube.playlists().insert(\n",
    "    part='snippet,status',\n",
    "    body=body\n",
    "  ).execute()\n",
    "  print('New playlist ID: %s' % playlists_insert_response['id'])\n",
    "#add_playlist(youtube)"
   ]
  },
  {
   "cell_type": "code",
   "execution_count": 72,
   "id": "hydraulic-dietary",
   "metadata": {
    "tags": []
   },
   "outputs": [
    {
     "name": "stdout",
     "output_type": "stream",
     "text": [
      "['PLs2auPpToJpb0ttyGab3c5h5XUn7dXE-9', 'youtube2zim', 0]\n",
      "['PLs2auPpToJpbDRe9sh5nbeXRviOI4HpAL', 'youtube2zim', 0]\n",
      "['PLs2auPpToJpb6MeiaKEIpkdSWeBVgvC_p', 'top-ted', 0]\n"
     ]
    }
   ],
   "source": [
    "def get_my_playlists():\n",
    "    playlists_list_response = youtube.playlists().list(\n",
    "        part='contentDetails,snippet',\n",
    "        mine = True\n",
    "        ).execute()\n",
    "    playlists = []\n",
    "    for item in playlists_list_response['items']:\n",
    "        playlists.append([item['id'],item['snippet']['title'],item['contentDetails']['itemCount']])\n",
    "    return playlists\n",
    "\n",
    "\n",
    "my_playlists = get_my_playlists()\n",
    "for pl in my_playlists:\n",
    "    print(pl)\n"
   ]
  },
  {
   "cell_type": "code",
   "execution_count": 111,
   "id": "beginning-supplier",
   "metadata": {},
   "outputs": [
    {
     "name": "stdout",
     "output_type": "stream",
     "text": [
      "resolving title via sqlite\n",
      "Logarithms, Explained - Steve Kelly\n"
     ]
    }
   ],
   "source": [
    "import sqlite3\n",
    "class Sqlite():\n",
    "   def __init__(self, filename):\n",
    "      self.conn = sqlite3.connect(filename)\n",
    "      self.conn.row_factory = sqlite3.Row\n",
    "      self.conn.text_factory = str\n",
    "      self.c = self.conn.cursor()\n",
    "    \n",
    "   def __del__(self):\n",
    "      self.conn.commit()\n",
    "      self.c.close()\n",
    "      del self.conn\n",
    "\n",
    "db = Sqlite(CACHE_DIR + '/zim_video_info.sqlite')\n",
    "TEST_VIDEO_ID = 'zzu2POfYv0Y'\n",
    "\n",
    "def get_data_from_video_id(video_id):\n",
    "    request = youtube.videos().list(\n",
    "        part=\"snippet,contentDetails,statistics\",\n",
    "        id=video_id\n",
    "    )\n",
    "    response = request.execute()\n",
    "    #print(json.dumps(response,indent=2))\n",
    "    return response\n",
    "    \n",
    "def get_title_from_video_id(video_id):\n",
    "    # A daatabase lookup is much faster than round trip to google\n",
    "    sql = 'select * from video_info where yt_id = ?'\n",
    "    result = db.c.execute(sql,(video_id,))\n",
    "    rows = result.fetchall()\n",
    "    if len(rows) == 1:\n",
    "        print('resolving title via sqlite')\n",
    "        return rows[0]['title']\n",
    "    \n",
    "    # Let google look up the title`\n",
    "    data = get_data_from_video_id(video_id)\n",
    "    return data['items'][0]['snippet']['title']\n",
    "\n",
    "test_title = get_title_from_video_id(TEST_VIDEO_ID)\n",
    "print(test_title)\n",
    "    "
   ]
  },
  {
   "cell_type": "code",
   "execution_count": 13,
   "id": "sacred-korean",
   "metadata": {
    "tags": []
   },
   "outputs": [],
   "source": [
    "def add_video_to_playlist(video_id,playlist_id):\n",
    "    body={\n",
    "      \"snippet\": {\n",
    "        \"playlistId\": playlist_id,\n",
    "        \"position\": 0,\n",
    "        \"resourceId\": {\n",
    "          \"kind\": \"youtube#video\",\n",
    "          \"videoId\": video_id\n",
    "        }\n",
    "      } \n",
    "    }\n",
    "    # print(json.dumps(body,indent=2))\n",
    "    request = youtube.playlistItems().insert(part=\"snippet\",body=body)\n",
    "    response = request.execute()\n",
    "    #print(json.dumps(response,indent=2))\n",
    "        \n",
    "def delete_video_from_playlist(video_id,playlist_id):\n",
    "    # print(json.dumps(body,indent=2))\n",
    "    request = youtube.playlistItems().delete(id=video_id)\n",
    "    response = request.execute()\n",
    "    print(json.dumps(response,indent=2))\n",
    "\n",
    "# add_video_to_playlist(TEST_VIDEO_ID,CURRENT_PLAYLIST_ID)"
   ]
  },
  {
   "cell_type": "code",
   "execution_count": null,
   "id": "satellite-blank",
   "metadata": {},
   "outputs": [],
   "source": []
  },
  {
   "cell_type": "code",
   "execution_count": null,
   "id": "graduate-navigation",
   "metadata": {},
   "outputs": [],
   "source": []
  },
  {
   "cell_type": "code",
   "execution_count": 77,
   "id": "hungarian-germany",
   "metadata": {},
   "outputs": [],
   "source": [
    "def get_my_uploads_list():\n",
    "  # Retrieve the contentDetails part of the channel resource for the\n",
    "  # authenticated user's channel.\n",
    "  channels_response = youtube.channels().list(\n",
    "    mine=True,\n",
    "    part='contentDetails'\n",
    "  ).execute()\n",
    "\n",
    "  for channel in channels_response['items']:\n",
    "    # From the API response, extract the playlist ID that identifies the list\n",
    "    # of videos uploaded to the authenticated user's channel.\n",
    "    return channel['contentDetails']['relatedPlaylists']['uploads']\n",
    "\n",
    "  return None\n"
   ]
  },
  {
   "cell_type": "code",
   "execution_count": 8,
   "id": "featured-intellectual",
   "metadata": {},
   "outputs": [
    {
     "name": "stdout",
     "output_type": "stream",
     "text": [
      "PLs2auPpToJpbDRe9sh5nbeXRviOI4HpAL\n",
      "video_id:zzu2POfYv0Y, playlistItem_id:UExzMmF1UHBUb0pwYkRSZTlzaDVuYmVYUnZpT0k0SHBBTC41NkI0NEY2RDEwNTU3Q0M2\n"
     ]
    }
   ],
   "source": [
    "def get_list_from_playlist_id(playlist_id):\n",
    "  # Retrieve the list of videos uploaded to the authenticated user's channel.\n",
    "  playlistitems_list_request = youtube.playlistItems().list(\n",
    "    playlistId=playlist_id,\n",
    "    part='snippet',\n",
    "    maxResults=50\n",
    "  )\n",
    "  pl_list = {}\n",
    "  while playlistitems_list_request:\n",
    "    playlistitems_list_response = playlistitems_list_request.execute()\n",
    "\n",
    "    for playlist_item in playlistitems_list_response['items']:\n",
    "      title = playlist_item['snippet']['title']\n",
    "      video_id = playlist_item['snippet']['resourceId']['videoId']\n",
    "        \n",
    "      # create a dictionary which the video_id as key and playlist_id as value\n",
    "      pl_list[video_id] = playlist_item['id']\n",
    "      # \n",
    "\n",
    "    playlistitems_list_request = youtube.playlistItems().list_next(\n",
    "      playlistitems_list_request, playlistitems_list_response)\n",
    "  return pl_list\n",
    "\n",
    "try:\n",
    "    playlist_ids = get_list_from_playlist_id(CURRENT_PLAYLIST_ID)\n",
    "    print(CURRENT_PLAYLIST_ID)\n",
    "    for video_id in playlist_ids.keys():\n",
    "        print('video_id:%s, playlistItem_id:%s'%(video_id,playlist_ids[video_id]))\n",
    "        pass\n",
    "except HttpError as e:\n",
    "    print('An HTTP error %d occurred:\\n%s' % (e.resp.status, e.content))\n",
    "    print('Probably the %s playlist is does not exist'%CURRENT_PLAYLIST_ID)\n"
   ]
  },
  {
   "cell_type": "code",
   "execution_count": null,
   "id": "pleased-lover",
   "metadata": {},
   "outputs": [],
   "source": [
    "def delete_video_from_playlist(playlist_id):\n",
    "    response = youtube.playlistitems().delete(id=playlist_id.execute()\n",
    "    print(response)"
   ]
  },
  {
   "cell_type": "code",
   "execution_count": 20,
   "id": "nutritional-sauce",
   "metadata": {},
   "outputs": [
    {
     "ename": "HttpError",
     "evalue": "<HttpError 403 when requesting https://youtube.googleapis.com/youtube/v3/playlistItems?playlistId=PLs2auPpToJpbDRe9sh5nbeXRviOI4HpAL&part=snippet&maxResults=50&alt=json&pageToken=CGQQAA returned \"The request cannot be completed because you have exceeded your <a href=\"/youtube/v3/getting-started#quota\">quota</a>.\". Details: \"The request cannot be completed because you have exceeded your <a href=\"/youtube/v3/getting-started#quota\">quota</a>.\">",
     "output_type": "error",
     "traceback": [
      "\u001b[0;31m---------------------------------------------------------------------------\u001b[0m",
      "\u001b[0;31mHttpError\u001b[0m                                 Traceback (most recent call last)",
      "\u001b[0;32m<ipython-input-20-44e67489662e>\u001b[0m in \u001b[0;36m<module>\u001b[0;34m\u001b[0m\n\u001b[1;32m     21\u001b[0m                 \u001b[0madd_video_to_playlist\u001b[0m\u001b[0;34m(\u001b[0m\u001b[0mid\u001b[0m\u001b[0;34m,\u001b[0m\u001b[0mCURRENT_PLAYLIST_ID\u001b[0m\u001b[0;34m)\u001b[0m\u001b[0;34m\u001b[0m\u001b[0;34m\u001b[0m\u001b[0m\n\u001b[1;32m     22\u001b[0m \u001b[0;34m\u001b[0m\u001b[0m\n\u001b[0;32m---> 23\u001b[0;31m \u001b[0msync_playlist_with_wanted\u001b[0m\u001b[0;34m(\u001b[0m\u001b[0mCURRENT_PLAYLIST_ID\u001b[0m\u001b[0;34m)\u001b[0m\u001b[0;34m\u001b[0m\u001b[0;34m\u001b[0m\u001b[0m\n\u001b[0m",
      "\u001b[0;32m<ipython-input-20-44e67489662e>\u001b[0m in \u001b[0;36msync_playlist_with_wanted\u001b[0;34m(playlist_id)\u001b[0m\n\u001b[1;32m      4\u001b[0m \u001b[0;31m# First delete any vidoes in the playlist that are not wanted\u001b[0m\u001b[0;34m\u001b[0m\u001b[0;34m\u001b[0m\u001b[0;34m\u001b[0m\u001b[0m\n\u001b[1;32m      5\u001b[0m \u001b[0;32mdef\u001b[0m \u001b[0msync_playlist_with_wanted\u001b[0m\u001b[0;34m(\u001b[0m\u001b[0mplaylist_id\u001b[0m\u001b[0;34m)\u001b[0m\u001b[0;34m:\u001b[0m\u001b[0;34m\u001b[0m\u001b[0;34m\u001b[0m\u001b[0m\n\u001b[0;32m----> 6\u001b[0;31m     \u001b[0mvideo_to_playlist_map\u001b[0m \u001b[0;34m=\u001b[0m \u001b[0mget_list_from_playlist_id\u001b[0m\u001b[0;34m(\u001b[0m\u001b[0mplaylist_id\u001b[0m\u001b[0;34m)\u001b[0m\u001b[0;34m\u001b[0m\u001b[0;34m\u001b[0m\u001b[0m\n\u001b[0m\u001b[1;32m      7\u001b[0m     \u001b[0mprint\u001b[0m\u001b[0;34m(\u001b[0m\u001b[0;34m'video_to_playlist_map length:%s'\u001b[0m\u001b[0;34m%\u001b[0m\u001b[0mlen\u001b[0m\u001b[0;34m(\u001b[0m\u001b[0mvideo_to_playlist_map\u001b[0m\u001b[0;34m)\u001b[0m\u001b[0;34m)\u001b[0m\u001b[0;34m\u001b[0m\u001b[0;34m\u001b[0m\u001b[0m\n\u001b[1;32m      8\u001b[0m     \u001b[0;32mwith\u001b[0m \u001b[0mopen\u001b[0m\u001b[0;34m(\u001b[0m\u001b[0mZIM_PATH\u001b[0m\u001b[0;34m,\u001b[0m\u001b[0;34m'r'\u001b[0m\u001b[0;34m)\u001b[0m \u001b[0;32mas\u001b[0m \u001b[0mfp\u001b[0m\u001b[0;34m:\u001b[0m\u001b[0;34m\u001b[0m\u001b[0;34m\u001b[0m\u001b[0m\n",
      "\u001b[0;32m<ipython-input-8-5ea4cae9c6c8>\u001b[0m in \u001b[0;36mget_list_from_playlist_id\u001b[0;34m(playlist_id)\u001b[0m\n\u001b[1;32m      8\u001b[0m   \u001b[0mpl_list\u001b[0m \u001b[0;34m=\u001b[0m \u001b[0;34m{\u001b[0m\u001b[0;34m}\u001b[0m\u001b[0;34m\u001b[0m\u001b[0;34m\u001b[0m\u001b[0m\n\u001b[1;32m      9\u001b[0m   \u001b[0;32mwhile\u001b[0m \u001b[0mplaylistitems_list_request\u001b[0m\u001b[0;34m:\u001b[0m\u001b[0;34m\u001b[0m\u001b[0;34m\u001b[0m\u001b[0m\n\u001b[0;32m---> 10\u001b[0;31m     \u001b[0mplaylistitems_list_response\u001b[0m \u001b[0;34m=\u001b[0m \u001b[0mplaylistitems_list_request\u001b[0m\u001b[0;34m.\u001b[0m\u001b[0mexecute\u001b[0m\u001b[0;34m(\u001b[0m\u001b[0;34m)\u001b[0m\u001b[0;34m\u001b[0m\u001b[0;34m\u001b[0m\u001b[0m\n\u001b[0m\u001b[1;32m     11\u001b[0m \u001b[0;34m\u001b[0m\u001b[0m\n\u001b[1;32m     12\u001b[0m     \u001b[0;32mfor\u001b[0m \u001b[0mplaylist_item\u001b[0m \u001b[0;32min\u001b[0m \u001b[0mplaylistitems_list_response\u001b[0m\u001b[0;34m[\u001b[0m\u001b[0;34m'items'\u001b[0m\u001b[0;34m]\u001b[0m\u001b[0;34m:\u001b[0m\u001b[0;34m\u001b[0m\u001b[0;34m\u001b[0m\u001b[0m\n",
      "\u001b[0;32m~/miniconda3/lib/python3.9/site-packages/googleapiclient/_helpers.py\u001b[0m in \u001b[0;36mpositional_wrapper\u001b[0;34m(*args, **kwargs)\u001b[0m\n\u001b[1;32m    132\u001b[0m                 \u001b[0;32melif\u001b[0m \u001b[0mpositional_parameters_enforcement\u001b[0m \u001b[0;34m==\u001b[0m \u001b[0mPOSITIONAL_WARNING\u001b[0m\u001b[0;34m:\u001b[0m\u001b[0;34m\u001b[0m\u001b[0;34m\u001b[0m\u001b[0m\n\u001b[1;32m    133\u001b[0m                     \u001b[0mlogger\u001b[0m\u001b[0;34m.\u001b[0m\u001b[0mwarning\u001b[0m\u001b[0;34m(\u001b[0m\u001b[0mmessage\u001b[0m\u001b[0;34m)\u001b[0m\u001b[0;34m\u001b[0m\u001b[0;34m\u001b[0m\u001b[0m\n\u001b[0;32m--> 134\u001b[0;31m             \u001b[0;32mreturn\u001b[0m \u001b[0mwrapped\u001b[0m\u001b[0;34m(\u001b[0m\u001b[0;34m*\u001b[0m\u001b[0margs\u001b[0m\u001b[0;34m,\u001b[0m \u001b[0;34m**\u001b[0m\u001b[0mkwargs\u001b[0m\u001b[0;34m)\u001b[0m\u001b[0;34m\u001b[0m\u001b[0;34m\u001b[0m\u001b[0m\n\u001b[0m\u001b[1;32m    135\u001b[0m \u001b[0;34m\u001b[0m\u001b[0m\n\u001b[1;32m    136\u001b[0m         \u001b[0;32mreturn\u001b[0m \u001b[0mpositional_wrapper\u001b[0m\u001b[0;34m\u001b[0m\u001b[0;34m\u001b[0m\u001b[0m\n",
      "\u001b[0;32m~/miniconda3/lib/python3.9/site-packages/googleapiclient/http.py\u001b[0m in \u001b[0;36mexecute\u001b[0;34m(self, http, num_retries)\u001b[0m\n\u001b[1;32m    918\u001b[0m             \u001b[0mcallback\u001b[0m\u001b[0;34m(\u001b[0m\u001b[0mresp\u001b[0m\u001b[0;34m)\u001b[0m\u001b[0;34m\u001b[0m\u001b[0;34m\u001b[0m\u001b[0m\n\u001b[1;32m    919\u001b[0m         \u001b[0;32mif\u001b[0m \u001b[0mresp\u001b[0m\u001b[0;34m.\u001b[0m\u001b[0mstatus\u001b[0m \u001b[0;34m>=\u001b[0m \u001b[0;36m300\u001b[0m\u001b[0;34m:\u001b[0m\u001b[0;34m\u001b[0m\u001b[0;34m\u001b[0m\u001b[0m\n\u001b[0;32m--> 920\u001b[0;31m             \u001b[0;32mraise\u001b[0m \u001b[0mHttpError\u001b[0m\u001b[0;34m(\u001b[0m\u001b[0mresp\u001b[0m\u001b[0;34m,\u001b[0m \u001b[0mcontent\u001b[0m\u001b[0;34m,\u001b[0m \u001b[0muri\u001b[0m\u001b[0;34m=\u001b[0m\u001b[0mself\u001b[0m\u001b[0;34m.\u001b[0m\u001b[0muri\u001b[0m\u001b[0;34m)\u001b[0m\u001b[0;34m\u001b[0m\u001b[0;34m\u001b[0m\u001b[0m\n\u001b[0m\u001b[1;32m    921\u001b[0m         \u001b[0;32mreturn\u001b[0m \u001b[0mself\u001b[0m\u001b[0;34m.\u001b[0m\u001b[0mpostproc\u001b[0m\u001b[0;34m(\u001b[0m\u001b[0mresp\u001b[0m\u001b[0;34m,\u001b[0m \u001b[0mcontent\u001b[0m\u001b[0;34m)\u001b[0m\u001b[0;34m\u001b[0m\u001b[0;34m\u001b[0m\u001b[0m\n\u001b[1;32m    922\u001b[0m \u001b[0;34m\u001b[0m\u001b[0m\n",
      "\u001b[0;31mHttpError\u001b[0m: <HttpError 403 when requesting https://youtube.googleapis.com/youtube/v3/playlistItems?playlistId=PLs2auPpToJpbDRe9sh5nbeXRviOI4HpAL&part=snippet&maxResults=50&alt=json&pageToken=CGQQAA returned \"The request cannot be completed because you have exceeded your <a href=\"/youtube/v3/getting-started#quota\">quota</a>.\". Details: \"The request cannot be completed because you have exceeded your <a href=\"/youtube/v3/getting-started#quota\">quota</a>.\">"
     ]
    }
   ],
   "source": [
    "# This cell synchronizes a playlist with wanted id's in ZIM_PATH file\n",
    "CACHE_DIR = '/home/ghunt/zimtest/teded/working'\n",
    "\n",
    "# First delete any vidoes in the playlist that are not wanted\n",
    "def sync_playlist_with_wanted(playlist_id):\n",
    "    video_to_playlist_map = get_list_from_playlist_id(playlist_id)\n",
    "    print('video_to_playlist_map length:%s'%len(video_to_playlist_map))\n",
    "    with open(ZIM_PATH,'r') as fp:\n",
    "        wanted = fp.readlines()\n",
    "        print('length of wanted: %s'%len(wanted))\n",
    "        for video_id in video_to_playlist_map.keys():\n",
    "            if video_id not in wanted:\n",
    "                item_id = video_to_playlist_map[video_id]\n",
    "                response = youtube.playlistItems().delete(id=item_id).execute()\n",
    "        added = 1\n",
    "        for line in wanted:\n",
    "            if added % 100 == 0:\n",
    "                print('Added %s'%added)\n",
    "            id = line.strip().split(',')[0]\n",
    "            if id not in video_to_playlist_map.keys():\n",
    "                add_video_to_playlist(id,CURRENT_PLAYLIST_ID)\n",
    "                \n",
    "sync_playlist_with_wanted(CURRENT_PLAYLIST_ID)"
   ]
  },
  {
   "cell_type": "code",
   "execution_count": null,
   "id": "athletic-effort",
   "metadata": {},
   "outputs": [],
   "source": []
  },
  {
   "cell_type": "code",
   "execution_count": null,
   "id": "roman-polls",
   "metadata": {},
   "outputs": [],
   "source": []
  }
 ],
 "metadata": {
  "kernelspec": {
   "display_name": "Python 3",
   "language": "python",
   "name": "python3"
  },
  "language_info": {
   "codemirror_mode": {
    "name": "ipython",
    "version": 3
   },
   "file_extension": ".py",
   "mimetype": "text/x-python",
   "name": "python",
   "nbconvert_exporter": "python",
   "pygments_lexer": "ipython3",
   "version": "3.9.1"
  },
  "toc-autonumbering": true,
  "toc-showcode": true,
  "toc-showmarkdowntxt": false,
  "toc-showtags": true
 },
 "nbformat": 4,
 "nbformat_minor": 5
}
