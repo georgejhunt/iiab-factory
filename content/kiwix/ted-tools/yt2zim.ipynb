{
 "cells": [
  {
   "cell_type": "markdown",
   "id": "detailed-piano",
   "metadata": {},
   "source": [
    "### Using Openzim Youtube2zim program\n",
    "* This program is written by Kiwix and has a variety of methods for specifying which videos to include in a ZIM file. Unfortunately, a flat file of youtube ID's is not one of them. But one of the input specifications that is available is to specify a \"Youtube Playlist\".\n",
    "* Getting permission to write a playlist from a python program is a task.\n",
    "    1. The written playlist can only be written to by a user who has a google account, and who also owns a Youtube Channel.\n",
    "    2. with proper credentials, the owner can create a playlist of up to 5000 videos in her own channel.\n",
    "    3. Writing to youtube requires an oauth2 credential. The steps I found necessary:\n",
    "        1. Go to \"console.developer.google.com\" to create a project.\n",
    "        2. Within that project create a key (for reading public data) and a oauth2 credential for writing.\n",
    "        3. The credential needs to specify a callback where google can return a software key which includes the permission that the owner of a Youtube channel gives to the python program. The callback I used was a flask program at iiab-factory/content/kiwix/ted-tools/flask_oauth_youtuve.py. And the URL created by this flask program needs to be specified to google during the process of creating the oauth2 credential as \"http://localhost:8088/oauth2callback\".\n",
    "        4. The flask program writes a file in the current directory \"zim_playbook_oauth_credentials\"."
   ]
  },
  {
   "cell_type": "code",
   "execution_count": 4,
   "id": "nonprofit-rendering",
   "metadata": {},
   "outputs": [],
   "source": [
    "# -*- coding: utf-8 -*-\n",
    "import os,sys\n",
    "import json\n",
    "\n",
    "PREFIX = os.environ.get('ZIM_PREFIX','/ext/zims')\n",
    "# Declare a short project name (ZIM files are often long strings\n",
    "#PROJECT_NAME = 'ted-kiwix'\n",
    "PROJECT_NAME = 'youtube'\n",
    "PREFIX = os.environ.get('ZIM_PREFIX','/ext/zims')\n",
    "TARGET_SIZE =10000000000  #10GB\n",
    "# Input the full path of the downloaded ZIM file\n",
    "ZIM_PATH = '%s/%s/working/wanted_list.csv'%(PREFIX,PROJECT_NAME,) \n",
    "# The rest of the paths are computed and represent the standard layout\n",
    "# Jupyter sets a working director as part of it's setup. We need it's value\n",
    "HOME = os.environ['HOME']\n",
    "WORKING_DIR = PREFIX + '/' + PROJECT_NAME + '/working'\n",
    "PROJECT_DIR = PREFIX + '/' + PROJECT_NAME + '/tree'\n",
    "OUTPUT_DIR = PREFIX + '/' + PROJECT_NAME + '/output_tree'\n",
    "SOURCE_DIR = PREFIX + '/' + PROJECT_NAME + '/zim-src'\n",
    "dir_list = ['output_tree','tree','working/video_json','zim-src'] \n",
    "for f in dir_list:\n",
    "    if not os.path.isdir(PREFIX + '/' + PROJECT_NAME +'/' + f): os.makedirs(PREFIX + '/' + PROJECT_NAME +'/' + f) \n",
    "# abort if the input file cannot be found\n",
    "if not os.path.exists(ZIM_PATH):\n",
    "    print('%s path not found. Quitting. . .'%ZIM_PATH)\n",
    "    exit\n"
   ]
  },
  {
   "cell_type": "raw",
   "id": "worthy-tumor",
   "metadata": {},
   "source": [
    "# this diagnostic is disabled (labeled Raw)\n",
    "with open(ZIM_PATH,'r') as fp:\n",
    "    wanted = fp.readlines()\n",
    "    for line in wanted:\n",
    "        id = line.strip().split(',')[0]\n",
    "        print(id,line.strip().split(',')[1])"
   ]
  },
  {
   "cell_type": "code",
   "execution_count": 12,
   "id": "lined-assist",
   "metadata": {},
   "outputs": [
    {
     "name": "stdout",
     "output_type": "stream",
     "text": [
      "{\n",
      "  \"kind\": \"youtube#channelListResponse\",\n",
      "  \"etag\": \"tRVB409M78PdigH7dSlPazTvgAg\",\n",
      "  \"pageInfo\": {\n",
      "    \"totalResults\": 1,\n",
      "    \"resultsPerPage\": 5\n",
      "  },\n",
      "  \"items\": [\n",
      "    {\n",
      "      \"kind\": \"youtube#channel\",\n",
      "      \"etag\": \"59ppxg9_8rXxxZfSlBdYPXm1Xeg\",\n",
      "      \"id\": \"UCljl2cmQMgzlTkeJqJier7g\",\n",
      "      \"snippet\": {\n",
      "        \"title\": \"George Hunt\",\n",
      "        \"description\": \"\",\n",
      "        \"publishedAt\": \"2011-10-06T18:43:32Z\",\n",
      "        \"thumbnails\": {\n",
      "          \"default\": {\n",
      "            \"url\": \"https://yt3.ggpht.com/ytc/AAUvwngpZkDZ2rzp1hzCGEUH6C5SnKXbNPK6galHUYLb1g=s88-c-k-c0x00ffffff-no-rj\",\n",
      "            \"width\": 88,\n",
      "            \"height\": 88\n",
      "          },\n",
      "          \"medium\": {\n",
      "            \"url\": \"https://yt3.ggpht.com/ytc/AAUvwngpZkDZ2rzp1hzCGEUH6C5SnKXbNPK6galHUYLb1g=s240-c-k-c0x00ffffff-no-rj\",\n",
      "            \"width\": 240,\n",
      "            \"height\": 240\n",
      "          },\n",
      "          \"high\": {\n",
      "            \"url\": \"https://yt3.ggpht.com/ytc/AAUvwngpZkDZ2rzp1hzCGEUH6C5SnKXbNPK6galHUYLb1g=s800-c-k-c0x00ffffff-no-rj\",\n",
      "            \"width\": 800,\n",
      "            \"height\": 800\n",
      "          }\n",
      "        },\n",
      "        \"localized\": {\n",
      "          \"title\": \"George Hunt\",\n",
      "          \"description\": \"\"\n",
      "        }\n",
      "      }\n",
      "    }\n",
      "  ]\n",
      "}\n"
     ]
    }
   ],
   "source": [
    "\n",
    "import google.oauth2.credentials\n",
    "import google_auth_oauthlib.flow\n",
    "import googleapiclient.discovery\n",
    "# The User validated google credentials are in her home directory\n",
    "home = os.environ['HOME']\n",
    "with open(\"%s/zim_playbook_oauth_credentials\"%home,'r') as fp:\n",
    "    credentials = json.loads(fp.read())\n",
    "    \n",
    "# Load credentials from file\n",
    "credentials = google.oauth2.credentials.Credentials(**credentials)\n",
    " \n",
    "youtube = googleapiclient.discovery.build(\n",
    "    'youtube', 'v3', credentials=credentials)\n",
    "\n",
    "channel = youtube.channels().list(mine=True, part='snippet').execute()\n",
    "\n",
    "# check that the authentication worked\n",
    "#print(json.dumps(channel,indent=2))"
   ]
  },
  {
   "cell_type": "code",
   "execution_count": null,
   "id": "vertical-league",
   "metadata": {},
   "outputs": [],
   "source": []
  }
 ],
 "metadata": {
  "kernelspec": {
   "display_name": "Python 3",
   "language": "python",
   "name": "python3"
  },
  "language_info": {
   "codemirror_mode": {
    "name": "ipython",
    "version": 3
   },
   "file_extension": ".py",
   "mimetype": "text/x-python",
   "name": "python",
   "nbconvert_exporter": "python",
   "pygments_lexer": "ipython3",
   "version": "3.9.1"
  }
 },
 "nbformat": 4,
 "nbformat_minor": 5
}
