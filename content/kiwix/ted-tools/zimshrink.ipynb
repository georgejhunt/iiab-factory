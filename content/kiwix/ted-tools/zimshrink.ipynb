{
 "cells": [
  {
   "cell_type": "markdown",
   "id": "developing-intent",
   "metadata": {},
   "source": [
    "## Modifying ZIM Files\n",
    "\n",
    "#### The Larger Picture\n",
    "* Kiwix scrapes many useful sources, but sometimes the chunks are too big for IIAB.\n",
    "* Using the zimdump program, the highly compressed ZIM files can be flattened into a file tree, modified, and then re-packaged as a ZIM file.\n",
    "* This Notebook has a collection of tools which help in the above process.\n"
   ]
  },
  {
   "cell_type": "markdown",
   "id": "incorrect-valentine",
   "metadata": {},
   "source": [
    "#### How to Use this notebook\n",
    "* There are install steps that only need to happen once. The cells containing these steps are set to \"Raw\" in the right most dropdown so that they do not execute automatically each time the notebook starts.\n",
    "* The following bash script successfully installed zimtools on Ubuntu 20.04.It only needs to be run once. I think it's easier to do it from the command line, with tab completion. The script is at  \n",
    "/opt/iiab/iiab-factory/content/kiwix/generic/install-zim-tools.sh. \n",
    "```\n",
    "./install-zim-tools.sh\n",
    "```"
   ]
  },
  {
   "cell_type": "markdown",
   "id": "close-plenty",
   "metadata": {},
   "source": [
    "* **Some conventions**: Jupyter does not want to run as root. We will create a file structure that exists in the users home directory -- so the application will be able to write all the files it needs to function.\n",
    "```\n",
    "<home directory>\n",
    "├── new_zim\n",
    "├── tree\n",
    "└── working\n",
    "```\n",
    "In general terms, this program will dump the zim data into \"tree\", modify it, gather additional data into \"working\"\n",
    ", and create a ZIM file in \"new_zim\"\n",
    "* For testing purposes, the user will need to link from the server's document root to her home directory:\n",
    "```\n",
    "cd\n",
    "mkdir -p zimtest\n",
    "ln -s /home/<user name>/zimtest /library/www/html/zimtest \n",
    "```\n"
   ]
  },
  {
   "cell_type": "markdown",
   "id": "maritime-vietnamese",
   "metadata": {},
   "source": [
    "### Declare input and output environment\n",
    "* The ZIM file names tend to be long and hard to remember. The PROJECT_NAME, initialized below, is used to create output path names. All of the output of the zimdump program is placed in /library/www/html/zimtest/\\<PROJECT_NAME\\>. All if the intermediate downloads, and data, are placed in /library/working/kiwix/\\<PROJECT_NAME\\>. If you use the IIAB Admin Console to download ZIMS, you will find them in /library/zims/content/."
   ]
  },
  {
   "cell_type": "code",
   "execution_count": 1,
   "id": "immune-thomson",
   "metadata": {
    "tags": []
   },
   "outputs": [],
   "source": [
    "# -*- coding: utf-8 -*-\n",
    "from __future__ import unicode_literals\n",
    "import os,sys\n",
    "import youtube_dl\n",
    "import pprint as pprint\n",
    "\n",
    "# Declare a short project name (ZIM files are often long strings\n",
    "PROJECT_NAME = 'teded'\n",
    "# Input the full path of the downloaded ZIM file\n",
    "ZIM_PATH = '/library/www/html/teded/teded_en_all_2020-06.zim'\n",
    "\n",
    "# The rest of the paths are computed and represent the standard layout\n",
    "# Jupyter sets a working director as part of it's setup. We need it's value\n",
    "CWD = !pwd\n",
    "WORKING_DIR = '~/zimtest/' + PROJECT_NAME + '/working'\n",
    "PROJECT_DIR = '~/zimtest/' + PROJECT_NAME + '/tree'\n",
    "dir_list = ['new-zim','tree','working']\n",
    "for f in dir_list: \n",
    "    if not os.path.isdir('~/zimtest/' + PROJECT_NAME +'/' + f):\n",
    "       os.makedirs('~/zimtest/' + PROJECT_NAME +'/' + f)\n",
    "\n",
    "# abort if the input file cannot be found\n",
    "if not os.path.exists(ZIM_PATH):\n",
    "    print('%s path not found. Quitting. . .')\n",
    "    sys.exit(2)\n"
   ]
  },
  {
   "cell_type": "code",
   "execution_count": 2,
   "id": "christian-conference",
   "metadata": {
    "tags": []
   },
   "outputs": [],
   "source": [
    "# First we need to get a current copy of the script\n",
    "cwd=!pwd\n",
    "%cp /opt/iiab/iiab-factory/content/kiwix/de-namespace.sh {cwd[0]}"
   ]
  },
  {
   "cell_type": "code",
   "execution_count": 3,
   "id": "humanitarian-anatomy",
   "metadata": {
    "tags": []
   },
   "outputs": [
    {
     "name": "stdout",
     "output_type": "stream",
     "text": [
      "+ DOCROOT=/library/www/html\n",
      "+ '[' 2 -lt 2 ']'\n",
      "+ '[' '!' -f /library/www/html/teded/teded_en_all_2020-06.zim ']'\n",
      "+ '[' -d /library/www/html/zimtest ']'\n",
      "+ '[' '!' -f /library/www/html/zimtest/de-namespace ']'\n",
      "++ ls /library/www/html/zimtest/teded/tree\n",
      "++ wc -l\n",
      "+ contents=1744\n",
      "+ '[' 1744 -ne 0 ']'\n",
      "+ echo 'The /library/www/html/zimtest/teded/tree is not empty. Delete if you want to repeat this step.'\n",
      "The /library/www/html/zimtest/teded/tree is not empty. Delete if you want to repeat this step.\n",
      "+ exit 0\n"
     ]
    }
   ],
   "source": [
    "# The following command will zimdump to the \"tree\" directory\n",
    "#   and remove the namespace directories\n",
    "# It will return without doing anything if the \"tree' is not empty\n",
    "!./de-namespace.sh {ZIM_PATH} {PROJECT_NAME}"
   ]
  },
  {
   "cell_type": "markdown",
   "id": "foster-memorial",
   "metadata": {},
   "source": [
    "* The next step is a manual one that you will need to do with your browser. That is: to verify that after the namespace directories were removed, and all of the html links have been adjusted correctly. Point your browser to <hostname>/zimtest/\\<PROJECT_NAME\\>/tree.\n",
    "* If everything is working, it's time to go fetch the information about each video from youtube."
   ]
  },
  {
   "cell_type": "code",
   "execution_count": 4,
   "id": "progressive-biotechnology",
   "metadata": {},
   "outputs": [
    {
     "ename": "FileNotFoundError",
     "evalue": "[Errno 2] No such file or directory: '~/zimtest/teded/tree/videos/'",
     "output_type": "error",
     "traceback": [
      "\u001b[0;31m---------------------------------------------------------------------------\u001b[0m",
      "\u001b[0;31mFileNotFoundError\u001b[0m                         Traceback (most recent call last)",
      "\u001b[0;32m<ipython-input-4-9b4a7106cce7>\u001b[0m in \u001b[0;36m<module>\u001b[0;34m\u001b[0m\n\u001b[1;32m      4\u001b[0m \u001b[0mskipped\u001b[0m \u001b[0;34m=\u001b[0m \u001b[0;36m0\u001b[0m\u001b[0;34m\u001b[0m\u001b[0;34m\u001b[0m\u001b[0m\n\u001b[1;32m      5\u001b[0m \u001b[0;31m# Create a list of youtube id's\u001b[0m\u001b[0;34m\u001b[0m\u001b[0;34m\u001b[0m\u001b[0;34m\u001b[0m\u001b[0m\n\u001b[0;32m----> 6\u001b[0;31m \u001b[0myt_id_list\u001b[0m \u001b[0;34m=\u001b[0m \u001b[0mos\u001b[0m\u001b[0;34m.\u001b[0m\u001b[0mlistdir\u001b[0m\u001b[0;34m(\u001b[0m\u001b[0mPROJECT_DIR\u001b[0m \u001b[0;34m+\u001b[0m \u001b[0;34m'/videos/'\u001b[0m\u001b[0;34m)\u001b[0m\u001b[0;34m\u001b[0m\u001b[0;34m\u001b[0m\u001b[0m\n\u001b[0m\u001b[1;32m      7\u001b[0m \u001b[0;32mfor\u001b[0m \u001b[0myt_id\u001b[0m \u001b[0;32min\u001b[0m \u001b[0miter\u001b[0m\u001b[0;34m(\u001b[0m\u001b[0myt_id_list\u001b[0m\u001b[0;34m)\u001b[0m\u001b[0;34m:\u001b[0m\u001b[0;34m\u001b[0m\u001b[0;34m\u001b[0m\u001b[0m\n\u001b[1;32m      8\u001b[0m     \u001b[0;32mif\u001b[0m \u001b[0mos\u001b[0m\u001b[0;34m.\u001b[0m\u001b[0mpath\u001b[0m\u001b[0;34m.\u001b[0m\u001b[0mexists\u001b[0m\u001b[0;34m(\u001b[0m\u001b[0mWORKING_DIR\u001b[0m \u001b[0;34m+\u001b[0m \u001b[0;34m'/'\u001b[0m \u001b[0;34m+\u001b[0m \u001b[0mPROJECT_NAME\u001b[0m \u001b[0;34m+\u001b[0m \u001b[0;34m'/'\u001b[0m \u001b[0;34m+\u001b[0m \u001b[0myt_id\u001b[0m \u001b[0;34m+\u001b[0m \u001b[0;34m'.json'\u001b[0m\u001b[0;34m)\u001b[0m\u001b[0;34m:\u001b[0m\u001b[0;34m\u001b[0m\u001b[0;34m\u001b[0m\u001b[0m\n",
      "\u001b[0;31mFileNotFoundError\u001b[0m: [Errno 2] No such file or directory: '~/zimtest/teded/tree/videos/'"
     ]
    }
   ],
   "source": [
    "ydl = youtube_dl.YoutubeDL()\n",
    "\n",
    "downloaded = 0\n",
    "skipped = 0\n",
    "# Create a list of youtube id's\n",
    "yt_id_list = os.listdir(PROJECT_DIR + '/videos/')\n",
    "for yt_id in iter(yt_id_list):\n",
    "    if os.path.exists(WORKING_DIR + '/' + PROJECT_NAME + '/' + yt_id + '.json'):\n",
    "        # skip over items that are already downloadd\n",
    "        skipped += 1\n",
    "        continue\n",
    "    with ydl:\n",
    "       result = ydl.extract_info(\n",
    "                'http://www.youtube.com/watch?v=%s'%yt_id,\n",
    "                download=False # We just want to extract the info\n",
    "                )\n",
    "       downloaded += 1\n",
    "\n",
    "    with open(WORKING_DIR + '/' + PROJECT_NAME + '/' + yt_id + '.json','w') as fp:\n",
    "        fp.write(json.dumps(result))\n",
    "    #pprint.pprint(result['upload_date'],result['view_count'])\n",
    "print('%s skipped and %s downloaded'%(skipped,downloaded))"
   ]
  },
  {
   "cell_type": "code",
   "execution_count": null,
   "id": "tutorial-connection",
   "metadata": {},
   "outputs": [],
   "source": []
  }
 ],
 "metadata": {
  "kernelspec": {
   "display_name": "Python 3",
   "language": "python",
   "name": "python3"
  },
  "language_info": {
   "codemirror_mode": {
    "name": "ipython",
    "version": 3
   },
   "file_extension": ".py",
   "mimetype": "text/x-python",
   "name": "python",
   "nbconvert_exporter": "python",
   "pygments_lexer": "ipython3",
   "version": "3.8.5"
  },
  "toc-autonumbering": true,
  "toc-showmarkdowntxt": false,
  "toc-showtags": false
 },
 "nbformat": 4,
 "nbformat_minor": 5
}
