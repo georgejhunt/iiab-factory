{
 "cells": [
  {
   "cell_type": "markdown",
   "id": "emerging-showcase",
   "metadata": {},
   "source": [
    "## Modifying ZIM Files\n",
    "\n",
    "#### The Larger Picture\n",
    "* Kiwix scrapes many useful sources, but sometimes the chunks are too big for IIAB.\n",
    "* Using the zimdump program, the highly compressed ZIM files can be flattened into a file tree, modified, and then re-packaged as a ZIM file.\n",
    "* This Notebook has a collection of tools which help in the above process.\n"
   ]
  },
  {
   "cell_type": "markdown",
   "id": "future-outline",
   "metadata": {},
   "source": [
    "#### How to Use this notebook\n",
    "* There are install steps that only need to happen once. The cells containing these steps are set to \"Raw\" in the right most dropdown so that they do not execute automatically each time the notebook starts.\n",
    "* The following bash script successfully installed zimtools on Ubuntu 20.04.It only needs to be run once. I think it's easier to do it from the command line, with tab completion. In a terminal, do the following:\n",
    "\n",
    "```\n",
    "cd /opt/iiab/iiab-factory/content/kiwix/generic/ \n",
    "sudo ./install-zim-tools.sh\n",
    "```"
   ]
  },
  {
   "cell_type": "markdown",
   "id": "secondary-activity",
   "metadata": {},
   "source": [
    "* **Some conventions**: Jupyter does not want to run as root. We will create a file structure that exists in the users home directory -- so the application will be able to write all the files it needs to function.\n",
    "```\n",
    "<home directory>\n",
    "├── new_zim\n",
    "├── tree\n",
    "└── working\n",
    "```\n",
    "In general terms, this program will dump the zim data into \"tree\", modify it, gather additional data into \"working\"\n",
    ", and create a ZIM file in \"new_zim\"\n",
    "* For testing purposes, the user will need to link from the server's document root to her home directory (so that the nginx http server in IIAB will serve the candidate in \"tree):\n",
    "\n",
    "```\n",
    "cd\n",
    "mkdir -p zimtest\n",
    "ln -s /home/<user name>/zimtest /library/www/html/zimtest \n",
    "```\n"
   ]
  },
  {
   "cell_type": "markdown",
   "id": "voluntary-guatemala",
   "metadata": {},
   "source": [
    "#### Installation Notes to myself\n",
    "* Installing on Windows 10 insider preview WSL2. Used https://towardsdatascience.com/configuring-jupyter-notebook-in-windows-subsystem-linux-wsl2-c757893e9d69.\n",
    "* First tried installing miniconda, and then installing jupyterlab with it.\n",
    "* Wanted VIM bindings to edit cells, but jupyterlab version insralled by conda was too old for jupyter-vim extenion. Wound up deleting old version with conda, and used pip to install both.\n",
    "* Jupyterlab seems to make the current directory its root. I created a notebook directory, and aways start jupyter lab from my home directiry\n",
    "* Discovered that I could enable writing by non-root group in the iiab-factory repo, and continue to use git for version control. Needed to make symbolic link from ~/miniconda to iiab-factory.\n",
    "* Reminder: Start jupyterlav in console via \"jupyter lab --no-browser\", and then pasteing the html link displayed into my browser."
   ]
  },
  {
   "cell_type": "markdown",
   "id": "signal-oliver",
   "metadata": {},
   "source": [
    "#### Declare input and output\n",
    "* The ZIM file names tend to be long and hard to remember. The PROJECT_NAME, initialized below, is used to create path names. All of the output of the zimdump program is placed in \\<home\\>/zimtest/\\<PROJECT_NAME\\>/tree. All if the intermediate downloads, and data, are placed in \\<home\\>/zimtest/\\<PROJECT_NAME\\>/working. If you use the IIAB Admin Console to download ZIMS, you will find them in /library/zims/content/."
   ]
  },
  {
   "cell_type": "code",
   "execution_count": 32,
   "id": "vertical-cancellation",
   "metadata": {
    "tags": []
   },
   "outputs": [],
   "source": [
    "# -*- coding: utf-8 -*-\n",
    "from __future__ import unicode_literals\n",
    "import os,sys\n",
    "import json\n",
    "import youtube_dl\n",
    "import pprint as pprint\n",
    "\n",
    "# Declare a short project name (ZIM files are often long strings\n",
    "#PROJECT_NAME = 'ted-kiwix'\n",
    "PROJECT_NAME = 'ted-kiwix'\n",
    "# Input the full path of the downloaded ZIM file\n",
    "ZIM_PATH = '/home/ghunt/zimtest/teded/zim-src/teded_en_all_2020-06.zim'\n",
    "\n",
    "# The rest of the paths are computed and represent the standard layout\n",
    "# Jupyter sets a working director as part of it's setup. We need it's value\n",
    "HOME = os.environ['HOME']\n",
    "WORKING_DIR = HOME + '/zimtest/' + PROJECT_NAME + '/working'\n",
    "PROJECT_DIR = HOME + '/zimtest/' + PROJECT_NAME + '/tree'\n",
    "OUTPUT_DIR = HOME + '/zimtest/' + PROJECT_NAME + '/new-zim'\n",
    "dir_list = ['new-zim','tree','working/video_json']\n",
    "for f in dir_list: \n",
    "    if not os.path.isdir(HOME + '/zimtest/' + PROJECT_NAME +'/' + f):\n",
    "       os.makedirs(HOME + '/zimtest/' + PROJECT_NAME +'/' + f)\n",
    "\n",
    "# abort if the input file cannot be found\n",
    "if not os.path.exists(ZIM_PATH):\n",
    "    print('%s path not found. Quitting. . .'%ZIM_PATH)\n",
    "    exit\n"
   ]
  },
  {
   "cell_type": "code",
   "execution_count": 2,
   "id": "adult-winner",
   "metadata": {
    "tags": []
   },
   "outputs": [],
   "source": [
    "# First we need to get a current copy of the script\n",
    "dest = HOME + '/zimtest'\n",
    "%cp /opt/iiab/iiab-factory/content/kiwix/de-namespace.sh {dest} "
   ]
  },
  {
   "cell_type": "code",
   "execution_count": 3,
   "id": "expected-healthcare",
   "metadata": {
    "tags": []
   },
   "outputs": [
    {
     "name": "stdout",
     "output_type": "stream",
     "text": [
      "+ set -e\n",
      "+ '[' 2 -lt 2 ']'\n",
      "+ '[' '!' -f /home/ghunt/zimtest/teded/zim-src/teded_en_all_2020-06.zim ']'\n",
      "++ ls /home/ghunt/zimtest/ted-kiwix/tree\n",
      "++ wc -l\n",
      "+ contents=3\n",
      "+ '[' 3 -ne 0 ']'\n",
      "+ echo 'The /home/ghunt/zimtest/ted-kiwix/tree is not empty. Delete if you want to repeat this step.'\n",
      "The /home/ghunt/zimtest/ted-kiwix/tree is not empty. Delete if you want to repeat this step.\n",
      "+ exit 0\n"
     ]
    }
   ],
   "source": [
    "# The following command will zimdump to the \"tree\" directory\n",
    "#   and remove the namespace directories\n",
    "# It will return without doing anything if the \"tree' is not empty\n",
    "progname = HOME + '/zimtest/de-namespace.sh'\n",
    "!{progname} {ZIM_PATH} {PROJECT_NAME}"
   ]
  },
  {
   "cell_type": "markdown",
   "id": "resident-offset",
   "metadata": {},
   "source": [
    "* The next step is a manual one that you will need to do with your browser. That is: to verify that after the namespace directories were removed, and all of the html links have been adjusted correctly. Point your browser to <hostname>/zimtest/\\<PROJECT_NAME\\>/tree.\n",
    "* If everything is working, it's time to go fetch the information about each video from youtube."
   ]
  },
  {
   "cell_type": "code",
   "execution_count": null,
   "id": "dressed-exchange",
   "metadata": {},
   "outputs": [],
   "source": [
    "ydl = youtube_dl.YoutubeDL()\n",
    "\n",
    "downloaded = 0\n",
    "skipped = 0\n",
    "# Create a list of youtube id's\n",
    "yt_id_list = os.listdir(PROJECT_DIR + '/-/videos/')\n",
    "for yt_id in iter(yt_id_list):\n",
    "    if os.path.exists(WORKING_DIR + '/video_json/' + yt_id + '.json'):\n",
    "        # skip over items that are already downloadd\n",
    "        skipped += 1\n",
    "        continue\n",
    "    with ydl:\n",
    "       result = ydl.extract_info(\n",
    "                'http://www.youtube.com/watch?v=%s'%yt_id,\n",
    "                download=False # We just want to extract the info\n",
    "                )\n",
    "       downloaded += 1\n",
    "\n",
    "    with open(WORKING_DIR + '/video_json/' + yt_id + '.json','w') as fp:\n",
    "        fp.write(json.dumps(result))\n",
    "    #pprint.pprint(result['upload_date'],result['view_count'])\n",
    "print('%s skipped and %s downloaded'%(skipped,downloaded))"
   ]
  },
  {
   "cell_type": "markdown",
   "id": "activated-history",
   "metadata": {},
   "source": [
    "#### Playlist Navigation to Videos\n",
    "* On the home page there is a drop down selector which lists about 70 cateegories (or playlists).\n",
    "* The value from that drop down is used to pick an entry in \"-/assets/data.js\", which in turn specifies the playlist of yourtube ID\"s that are displayed when a selection is made."
   ]
  },
  {
   "cell_type": "code",
   "execution_count": 34,
   "id": "fallen-lighting",
   "metadata": {
    "tags": []
   },
   "outputs": [],
   "source": [
    "def get_assets_data():\n",
    "    # the file <root>/assets/data.js holds the category to video mappings\n",
    "    outstr = ''\n",
    "    data = {}\n",
    "    with open(PROJECT_DIR + '/-/assets/data.js', 'r') as fp:\n",
    "    #with open(OUTPUT_DIR + '/I/assets/data.js', 'r') as fp:\n",
    "        while True:\n",
    "            line = fp.readline()\n",
    "            if not line:\n",
    "                break\n",
    "            if line.startswith('var'):\n",
    "                if len(outstr) > 1:\n",
    "                    # clip off the trailing semicolon\n",
    "                    outstr = outstr[:-2]\n",
    "                    try:\n",
    "                        data[cat] = json.loads(outstr)\n",
    "                    except Exception:\n",
    "                        print('Parse error: %s'%outstr[:80])\n",
    "                        exit\n",
    "                cat = line[9:-4]\n",
    "                outstr = '['\n",
    "            else:\n",
    "                outstr += line\n",
    "    return data\n",
    "\n",
    "zim_category_js = get_assets_data()\n",
    "\n",
    "def get_zim_data(yt_id):\n",
    "    rtn_dict = {}\n",
    "    for cat in zim_category_js:\n",
    "        for video in range(len(zim_category_js[cat])):\n",
    "            if zim_category_js[cat][video]['id'] == yt_id:\n",
    "                rtn_dict = zim_category_js[cat][video]\n",
    "                break\n",
    "        if len(rtn_dict) > 0: break\n",
    "    return rtn_dict"
   ]
  },
  {
   "cell_type": "code",
   "execution_count": null,
   "id": "radical-converter",
   "metadata": {
    "scrolled": true,
    "tags": []
   },
   "outputs": [],
   "source": [
    "# enable this cell if you want summarize each category, and get a total of videos\n",
    "#   including those that are in more than one categofy\n",
    "tot=0\n",
    "for cat in zim_category_js:\n",
    "    tot += len(zim_category_js[cat])\n",
    "    print(cat, len(zim_category_js[cat]))\n",
    "print('Number of Videos in all categories -- perhaps used more than once:%d'%tot)"
   ]
  },
  {
   "cell_type": "markdown",
   "id": "subtle-audience",
   "metadata": {},
   "source": [
    "#### The following Cell is subroutines and can be left minimized"
   ]
  },
  {
   "cell_type": "code",
   "execution_count": 47,
   "id": "sapphire-spare",
   "metadata": {
    "tags": []
   },
   "outputs": [],
   "source": [
    "import datetime\n",
    "from pprint import pprint\n",
    "from pymediainfo import MediaInfo\n",
    "\n",
    "class VideoInfo(object):\n",
    "    def __init__(self,ted_root):\n",
    "        self.ted_root = ted_root\n",
    "\n",
    "    def mediainfo_dict(self,path):\n",
    "        if path[0] != \"/\":\n",
    "            path = os.path.join(self.ted_root,path)\n",
    "        try:\n",
    "            minfo = MediaInfo.parse(path)\n",
    "        except:\n",
    "            return {}\n",
    "        return minfo.to_data()\n",
    "\n",
    "    def select_info(self,path):\n",
    "        global data\n",
    "        if path[0] != \"/\":\n",
    "            path = os.path.join(self.ted_root,path)\n",
    "        data = self.mediainfo_dict(path)\n",
    "        if len(data) == 0:\n",
    "            return {}\n",
    "        rtn = {}\n",
    "        for index in range(len(data['tracks'])):\n",
    "            track = data['tracks'][index]\n",
    "            if track['kind_of_stream'] == 'General':\n",
    "                rtn['file_size'] = track['file_size']\n",
    "                rtn['bit_rate'] = track['overall_bit_rate']\n",
    "                rtn['time'] = track['other_duration'][0]\n",
    "            if track['kind_of_stream'] == 'Audio':\n",
    "                rtn['a_stream'] = track['stream_size']\n",
    "                rtn['a_rate'] = track['maximum_bit_rate']\n",
    "                rtn['a_channels'] = track['channel_s']\n",
    "            if track['kind_of_stream'] == 'Video':\n",
    "                rtn['v_stream'] = track['stream_size']\n",
    "                rtn['v_format'] = track['other_format'][0]\n",
    "                rtn['v_rate'] = track['bit_rate']\n",
    "                rtn['v_frame_rate'] = track['frame_rate']\n",
    "        return rtn\n",
    "\n",
    "import sqlite3\n",
    "class Sqlite():\n",
    "   def __init__(self, filename):\n",
    "      self.conn = sqlite3.connect(filename)\n",
    "      self.conn.row_factory = sqlite3.Row\n",
    "      self.conn.text_factory = str\n",
    "      self.c = self.conn.cursor()\n",
    "    \n",
    "   def __del__(self):\n",
    "      self.conn.commit()\n",
    "      self.c.close()\n",
    "      del self.conn\n",
    "\n",
    "def get_video_json(path):\n",
    "    with open(path,'r') as fp:\n",
    "        try:\n",
    "            jsonstr = fp.read()\n",
    "            #print(path)\n",
    "            modules = json.loads(jsonstr.strip())\n",
    "        except Exception as e:\n",
    "            print(e)\n",
    "            print(jsonstr[:80])\n",
    "            return {}\n",
    "    return modules\n",
    "\n",
    "def video_size(yt_id):\n",
    "    return os.path.getsize(PROJECT_DIR + '/-/videos/' + yt_id + '/video.webm')\n",
    "\n",
    "def make_directory(path):\n",
    "    if not os.path.exists(path):\n",
    "        os.makedirs(path)\n",
    "\n",
    "def download_file(url,todir):\n",
    "    local_filename = url.split('/')[-1]\n",
    "    r = requests.get(url)\n",
    "    f = open(todir + '/' + local_filename, 'wb')\n",
    "    for chunk in r.iter_content(chunk_size=512 * 1024):\n",
    "        if chunk:\n",
    "            f.write(chunk)\n",
    "    f.close()\n",
    "    \n",
    "from datetime import datetime\n",
    "def calc_views_per_year(upload_date,views):\n",
    "    uploaded_dt = datetime.strptime(upload_date,\"%Y%m%d\")\n",
    "    now_dt = datetime.now()\n",
    "    days_delta = now_dt - uploaded_dt\n",
    "    years = days_delta.days/365 + 1\n",
    "    return years"
   ]
  },
  {
   "cell_type": "markdown",
   "id": "opening-glasgow",
   "metadata": {},
   "source": [
    "#### Create a sqlite database which collects Data about each Video\n",
    "* We've already downloaded the data from YouTube for each Video. So get the items that are interesing to us. Such as size,date uploaded to youtube,view count"
   ]
  },
  {
   "cell_type": "code",
   "execution_count": 57,
   "id": "grave-invalid",
   "metadata": {
    "tags": []
   },
   "outputs": [
    {
     "name": "stdout",
     "output_type": "stream",
     "text": [
      "got here\n"
     ]
    },
    {
     "ename": "InterfaceError",
     "evalue": "Error binding parameter 7 - probably unsupported type.",
     "output_type": "error",
     "traceback": [
      "\u001b[0;31m---------------------------------------------------------------------------\u001b[0m",
      "\u001b[0;31mInterfaceError\u001b[0m                            Traceback (most recent call last)",
      "\u001b[0;32m<ipython-input-57-d2be1efc8ec0>\u001b[0m in \u001b[0;36m<module>\u001b[0;34m\u001b[0m\n\u001b[1;32m     43\u001b[0m     \u001b[0;31m#         bit_rate, format,average_rating,slug\u001b[0m\u001b[0;34m\u001b[0m\u001b[0;34m\u001b[0m\u001b[0;34m\u001b[0m\u001b[0m\n\u001b[1;32m     44\u001b[0m     \u001b[0msql\u001b[0m \u001b[0;34m=\u001b[0m \u001b[0;34m'INSERT OR REPLACE INTO video_info VALUES (?,?,?,?,?,?,?,?,?,?)'\u001b[0m\u001b[0;34m\u001b[0m\u001b[0;34m\u001b[0m\u001b[0m\n\u001b[0;32m---> 45\u001b[0;31m     db.c.execute(sql,[yt_id,vsize,view_count,views_per_year,upload_date, \\\n\u001b[0m\u001b[1;32m     46\u001b[0m                       duration,bit_rate,format,average_rating,slug, ])\n\u001b[1;32m     47\u001b[0m \u001b[0mdb\u001b[0m\u001b[0;34m.\u001b[0m\u001b[0mconn\u001b[0m\u001b[0;34m.\u001b[0m\u001b[0mcommit\u001b[0m\u001b[0;34m(\u001b[0m\u001b[0;34m)\u001b[0m\u001b[0;34m\u001b[0m\u001b[0;34m\u001b[0m\u001b[0m\n",
      "\u001b[0;31mInterfaceError\u001b[0m: Error binding parameter 7 - probably unsupported type."
     ]
    }
   ],
   "source": [
    "def initialize_db():\n",
    "    sql = 'CREATE TABLE IF NOT EXISTS video_info ('\\\n",
    "            'yt_id TEXT UNIQUE, zim_size INTEGER, view_count INTEGER, '\\\n",
    "            'views_per_year INTEGER, upload_date TEXT, duration TEXT, '\\\n",
    "            'bit_rate TEXT, format TEXT, '\\\n",
    "            'average_rating REAL,slug TEXT)'\n",
    "    db.c.execute(sql)\n",
    "    \n",
    "db = Sqlite(WORKING_DIR + '/zim_video_info.sqlite')\n",
    "initialize_db()\n",
    "vinfo = VideoInfo(PROJECT_DIR)\n",
    "yt_id_list = os.listdir(PROJECT_DIR + '/-/videos/' )\n",
    "for yt_id in iter(yt_id_list):\n",
    "    \n",
    "    # fetch data from assets/data.js\n",
    "    zim_data = get_zim_data(yt_id)\n",
    "    if len(zim_data) == 0: continue\n",
    "    slug = zim_data['slug']\n",
    "    # We already have youtube data for every video, use it \n",
    "    data = get_video_json(WORKING_DIR + \"/video_json/\" + yt_id + '.json')\n",
    "    if len(data) == 0:continue\n",
    "    print('got here')\n",
    "    exit\n",
    "    vsize = data.get('filesize',0)\n",
    "    view_count = data['view_count']\n",
    "    upload_date = data['upload_date']\n",
    "    average_rating = data['average_rating']\n",
    "    # calculate the views_per_year since it was uploaded\n",
    "    views_per_year = calc_views_per_year(upload_date,view_count)\n",
    "        \n",
    "    # interogate the video itself\n",
    "    selected_data = vinfo.select_info(PROJECT_DIR + '/-/videos/' + yt_id + '/video.webm')\n",
    "    if len(selected_data) == 0:\n",
    "        duration = \"not found\"\n",
    "        bit_rate = \"\" \n",
    "        formaat = \"\"\n",
    "    else:\n",
    "        duration = selected_data['time']\n",
    "        bit_rate = str(selected_data['bit_rate'])\n",
    "        format = selected_data['v_format']\n",
    "    \n",
    "    # colums names: yt_id,zim_size,view_count,views_per_year,upload_date,duration,\n",
    "    #         bit_rate, format,average_rating,slug\n",
    "    sql = 'INSERT OR REPLACE INTO video_info VALUES (?,?,?,?,?,?,?,?,?,?)'\n",
    "    db.c.execute(sql,[yt_id,vsize,view_count,views_per_year,upload_date, \\\n",
    "                      duration,bit_rate,format,average_rating,slug, ])\n",
    "db.conn.commit()"
   ]
  },
  {
   "cell_type": "code",
   "execution_count": 56,
   "id": "beautiful-assistant",
   "metadata": {
    "tags": []
   },
   "outputs": [
    {
     "data": {
      "text/plain": [
       "''"
      ]
     },
     "execution_count": 56,
     "metadata": {},
     "output_type": "execute_result"
    }
   ],
   "source": [
    "bit_rate"
   ]
  },
  {
   "cell_type": "code",
   "execution_count": 46,
   "id": "plain-saint",
   "metadata": {
    "scrolled": true,
    "tags": []
   },
   "outputs": [],
   "source": [
    "sqlite_db = WORKING_DIR + '/zim_video_info.sqlite'\n",
    "!sqlite3 {sqlite_db} '.headers on' 'select * from video_info limit 2'"
   ]
  },
  {
   "cell_type": "markdown",
   "id": "banned-scientist",
   "metadata": {},
   "source": [
    "#### Select the cutoff using view count and total size\n",
    "* Order the videos by view count. Then select the sum line in the that has the target sum."
   ]
  },
  {
   "cell_type": "code",
   "execution_count": null,
   "id": "lightweight-reserve",
   "metadata": {},
   "outputs": [],
   "source": [
    "def human_readable(num):\n",
    "    # return 3 significant digits and unit specifier\n",
    "    num = float(num)\n",
    "    units = [ '','K','M','G']\n",
    "    for i in range(4):\n",
    "        if num<10.0:\n",
    "            return \"%.2f%s\"%(num,units[i])\n",
    "        if num<100.0:\n",
    "            return \"%.1f%s\"%(num,units[i])\n",
    "        if num < 1000.0:\n",
    "            return \"%.0f%s\"%(num,units[i])\n",
    "        num /= 1024.0\n",
    "\n",
    "sql = 'select slug,zim_size,view_count from video_info order by view_count desc'\n",
    "tot_sum = 0\n",
    "db.c.execute(sql)\n",
    "rows = db.c.fetchall()\n",
    "print('%60s %6s %6s %6s'%('Name','Size','Sum','Views'))\n",
    "for row in rows:\n",
    "    tot_sum += row['zim_size']\n",
    "    print('%60s %6s %6s %6s'%(row['slug'][:60],human_readable(row['zim_size']),\\\n",
    "                              human_readable(tot_sum),human_readable(row['view_count']),))"
   ]
  },
  {
   "cell_type": "code",
   "execution_count": null,
   "id": "acoustic-dinner",
   "metadata": {},
   "outputs": [],
   "source": []
  },
  {
   "cell_type": "markdown",
   "id": "rational-monthly",
   "metadata": {
    "tags": []
   },
   "source": [
    "* Enter the view count minimum, which will generate a list of wanted youtube id's."
   ]
  },
  {
   "cell_type": "code",
   "execution_count": null,
   "id": "authorized-encoding",
   "metadata": {},
   "outputs": [],
   "source": [
    "views_min = 375000\n",
    "print(type(views_min))\n",
    "wanted_ids = []\n",
    "sql = 'SELECT yt_id from video_info where view_count > ?'\n",
    "db.c.execute(sql,[views_min,])\n",
    "rows = db.c.fetchall()\n",
    "for row in rows:\n",
    "    wanted_ids.append(row['yt_id'])"
   ]
  },
  {
   "cell_type": "markdown",
   "id": "polished-reasoning",
   "metadata": {},
   "source": [
    "* Now let's start building up the output directory\n"
   ]
  },
  {
   "cell_type": "code",
   "execution_count": null,
   "id": "treated-activation",
   "metadata": {
    "tags": []
   },
   "outputs": [],
   "source": [
    "import shutil\n",
    "# copy the default top level directories (these were in the zim's \"-\" directory )\n",
    "cpy_dirs = ['assets','cache','channels']\n",
    "for d in cpy_dirs:\n",
    "    if not os.isdir(os.path.join(OUTPUT_DIR,d))\n",
    "        os.makedirs(os.path.join(OUTPUT_DIR,d))\n",
    "    src = os.path.join(PROJECT_DIR,d)\n",
    "    dest = os.path.join(OUTPUT_DIR,d)\n",
    "    shutil.copytree(src,dest,dirs_exist_ok=True)"
   ]
  },
  {
   "cell_type": "code",
   "execution_count": null,
   "id": "ignored-greeting",
   "metadata": {},
   "outputs": [],
   "source": [
    "# Copy the videos selected by the wanted_ids list to output file\n",
    "for f in wanted_ids:\n",
    "    if not os.path.isdir(os.path.join(OUTPUT_DIR,'-/videos',f)):\n",
    "        os.makedirs(os.path.join(OUTPUT_DIR,'-/videos',f))\n",
    "    src = os.path.join(PROJECT_DIR,'-/videos',f)\n",
    "    dest = os.path.join(OUTPUT_DIR,'-/videos',f)\n",
    "    shutil.copytree(src,dest,dirs_exist_ok=True)"
   ]
  },
  {
   "cell_type": "code",
   "execution_count": null,
   "id": "searching-track",
   "metadata": {},
   "outputs": [],
   "source": [
    "# Grab the meta data from the original zim \"M\" directory \n",
    "#   and create a script for zimwriterfs\n",
    "def get_file_value(path):\n",
    "    with open(path,'r') as fp:\n",
    "        \n",
    "        try:\n",
    "            return fp.read()\n",
    "        except:\n",
    "            return \"\"\n",
    "meta_file_names = []        \n",
    "\n"
   ]
  },
  {
   "cell_type": "code",
   "execution_count": null,
   "id": "martial-session",
   "metadata": {},
   "outputs": [],
   "source": [
    "# Copy the top level html files \n",
    "for f in iter(os.listdir(PROJECT_DIR)):\n",
    "    if os.path.isfile(os.path.join(PROJECT_DIR,f)):\n",
    "        src = os.path.join(PROJECT_DIR,f)\n",
    "        !cp {src} {OUTPUT_DIR}"
   ]
  },
  {
   "cell_type": "code",
   "execution_count": null,
   "id": "affiliated-netherlands",
   "metadata": {
    "jupyter": {
     "source_hidden": true
    },
    "tags": []
   },
   "outputs": [],
   "source": [
    "# Write a new mapping from categories to vides (with some removed)\n",
    "outstr = ''\n",
    "for cat in zim_category_js:\n",
    "    outstr += 'var json_%s = [\\n'%cat\n",
    "    for video in range(len(zim_category_js[cat])):\n",
    "        if zim_category_js[cat][video].get('id','') in wanted_ids:\n",
    "            outstr += json.dumps(zim_category_js[cat][video],indent=1)\n",
    "            outstr += ','\n",
    "    outstr = outstr[:-1]\n",
    "    outstr += '];\\n'\n",
    "with open(OUTPUT_DIR + '/-/assets/data.js','w') as fp:\n",
    "    fp.write(outstr)\n"
   ]
  },
  {
   "cell_type": "code",
   "execution_count": null,
   "id": "olive-acoustic",
   "metadata": {},
   "outputs": [],
   "source": [
    "# Create a template for a script to run zimwriterfs\n",
    "mk_zim_cmd = \"\"\"\n",
    "zimwriterfs --language=eng\\\n",
    "            --welcome=home.html\\\n",
    "            --favicon=./favicon.jpg\\\n",
    "            --title=teded_en_med\\\n",
    "            --description=\\\"TED-Ed Videos from YouTube Channel\\\"\\\n",
    "            --creator='Youtube Channel “TED-Ed”'\\\n",
    "            --publisher=IIAB\\\n",
    "            --name=TED-Ed\\\n",
    "             %s %s.zim\"\"\"%(OUTPUT_DIR,PROJECT_NAME)\n",
    "with open(HOME + '/zimtest/' + PROJECT_NAME + '-zimwriter-cmd.sh','w') as fp:\n",
    "    fp.write(mk_zim_cmd)"
   ]
  },
  {
   "cell_type": "code",
   "execution_count": null,
   "id": "proprietary-anderson",
   "metadata": {},
   "outputs": [],
   "source": []
  },
  {
   "cell_type": "code",
   "execution_count": null,
   "id": "spoken-chance",
   "metadata": {
    "tags": []
   },
   "outputs": [],
   "source": []
  }
 ],
 "metadata": {
  "kernelspec": {
   "display_name": "Python 3",
   "language": "python",
   "name": "python3"
  },
  "language_info": {
   "codemirror_mode": {
    "name": "ipython",
    "version": 3
   },
   "file_extension": ".py",
   "mimetype": "text/x-python",
   "name": "python",
   "nbconvert_exporter": "python",
   "pygments_lexer": "ipython3",
   "version": "3.9.1"
  },
  "toc-autonumbering": true,
  "toc-showmarkdowntxt": false,
  "toc-showtags": false
 },
 "nbformat": 4,
 "nbformat_minor": 5
}
