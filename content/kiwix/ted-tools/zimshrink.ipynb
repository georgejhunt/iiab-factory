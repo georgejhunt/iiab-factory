{
 "cells": [
  {
   "cell_type": "markdown",
   "id": "provincial-vienna",
   "metadata": {},
   "source": [
    "## Modifying ZIM Files\n",
    "\n",
    "#### The Larger Picture\n",
    "* Kiwix scrapes many useful sources, but sometimes the chunks are too big for IIAB.\n",
    "* Using the zimdump program, the highly compressed ZIM files can be flattened into a file tree, modified, and then re-packaged as a ZIM file.\n",
    "* This Notebook has a collection of tools which help in the above process.\n"
   ]
  },
  {
   "cell_type": "markdown",
   "id": "under-porcelain",
   "metadata": {},
   "source": [
    "#### How to Use this notebook\n",
    "* There are install steps that only need to happen once. The cells containing these steps are set to \"Raw\" in the right most dropdown so that they do not execute automatically each time the notebook starts.\n",
    "* The following bash script successfully installed zimtools on Ubuntu 20.04.It only needs to be run once. I think it's easier to do it from the command line, with tab completion. In a terminal, do the following:\n",
    "\n",
    "```\n",
    "cd /opt/iiab/iiab-factory/content/kiwix/generic/ \n",
    "sudo ./install-zim-tools.sh\n",
    "```"
   ]
  },
  {
   "cell_type": "markdown",
   "id": "included-attribute",
   "metadata": {},
   "source": [
    "* **Some conventions**: Jupyter does not want to run as root. We will create a file structure that exists in the users home directory -- so the application will be able to write all the files it needs to function.\n",
    "```\n",
    "<home directory>\n",
    "├── new_zim\n",
    "├── tree\n",
    "└── working\n",
    "```\n",
    "In general terms, this program will dump the zim data into \"tree\", modify it, gather additional data into \"working\"\n",
    ", and create a ZIM file in \"new_zim\"\n",
    "* For testing purposes, the user will need to link from the server's document root to her home directory (so that the nginx http server in IIAB will serve the candidate in \"tree):\n",
    "\n",
    "```\n",
    "cd\n",
    "mkdir -p zimtest\n",
    "ln -s /home/<user name>/zimtest /library/www/html/zimtest \n",
    "```\n"
   ]
  },
  {
   "cell_type": "markdown",
   "id": "cheap-substance",
   "metadata": {},
   "source": [
    "#### Installation Notes to myself\n",
    "* Installing on Windows 10 insider preview WSL2. Used https://towardsdatascience.com/configuring-jupyter-notebook-in-windows-subsystem-linux-wsl2-c757893e9d69.\n",
    "* First tried installing miniconda, and then installing jupyterlab with it.\n",
    "* Wanted VIM bindings to edit cells, but jupyterlab version insralled by conda was too old for jupyter-vim extenion. Wound up deleting old version with conda, and used pip to install both.\n",
    "* Jupyterlab seems to make the current directory its root. I created a notebook directory, and aways start jupyter lab from my home directiry\n",
    "* Discovered that I could enable writing by non-root group in the iiab-factory repo, and continue to use git for version control. Needed to make symbolic link from ~/miniconda to iiab-factory.\n",
    "* Reminder: Start jupyterlav in console via \"jupyter lab --no-browser\", and then pasteing the html link displayed into my browser."
   ]
  },
  {
   "cell_type": "markdown",
   "id": "mature-amendment",
   "metadata": {},
   "source": [
    "#### Declare input and output\n",
    "* The ZIM file names tend to be long and hard to remember. The PROJECT_NAME, initialized below, is used to create path names. All of the output of the zimdump program is placed in \\<home\\>/zimtest/\\<PROJECT_NAME\\>/tree. All if the intermediate downloads, and data, are placed in \\<home\\>/zimtest/\\<PROJECT_NAME\\>/working. If you use the IIAB Admin Console to download ZIMS, you will find them in /library/zims/content/."
   ]
  },
  {
   "cell_type": "code",
   "execution_count": 1,
   "id": "closed-kelly",
   "metadata": {
    "tags": []
   },
   "outputs": [],
   "source": [
    "# -*- coding: utf-8 -*-\n",
    "from __future__ import unicode_literals\n",
    "import os,sys\n",
    "import json\n",
    "import youtube_dl\n",
    "import pprint as pprint\n",
    "\n",
    "# Declare a short project name (ZIM files are often long strings\n",
    "PROJECT_NAME = 'teded'\n",
    "# Input the full path of the downloaded ZIM file\n",
    "ZIM_PATH = '/home/ghunt/zimtest/teded/zim-src/teded_en_all_2020-06.zim'\n",
    "\n",
    "# The rest of the paths are computed and represent the standard layout\n",
    "# Jupyter sets a working director as part of it's setup. We need it's value\n",
    "HOME = os.environ['HOME']\n",
    "WORKING_DIR = HOME + '/zimtest/' + PROJECT_NAME + '/working'\n",
    "PROJECT_DIR = HOME + '/zimtest/' + PROJECT_NAME + '/tree'\n",
    "dir_list = ['new-zim','tree','working/video_json']\n",
    "for f in dir_list: \n",
    "    if not os.path.isdir(HOME + '/zimtest/' + PROJECT_NAME +'/' + f):\n",
    "       os.makedirs(HOME + '/zimtest/' + PROJECT_NAME +'/' + f)\n",
    "\n",
    "# abort if the input file cannot be found\n",
    "if not os.path.exists(ZIM_PATH):\n",
    "    print('%s path not found. Quitting. . .'%ZIM_PATH)\n",
    "    exit\n"
   ]
  },
  {
   "cell_type": "code",
   "execution_count": 2,
   "id": "cathedral-gossip",
   "metadata": {
    "tags": []
   },
   "outputs": [],
   "source": [
    "# First we need to get a current copy of the script\n",
    "dest = HOME + '/zimtest'\n",
    "%cp /opt/iiab/iiab-factory/content/kiwix/de-namespace.sh {dest} "
   ]
  },
  {
   "cell_type": "code",
   "execution_count": 3,
   "id": "perfect-punch",
   "metadata": {
    "tags": []
   },
   "outputs": [
    {
     "name": "stdout",
     "output_type": "stream",
     "text": [
      "+ set -e\n",
      "+ '[' 2 -lt 2 ']'\n",
      "+ '[' '!' -f /home/ghunt/zimtest/teded/zim-src/teded_en_all_2020-06.zim ']'\n",
      "++ ls /home/ghunt/zimtest/teded/tree\n",
      "++ wc -l\n",
      "+ contents=1742\n",
      "+ '[' 1742 -ne 0 ']'\n",
      "+ echo 'The /home/ghunt/zimtest/teded/tree is not empty. Delete if you want to repeat this step.'\n",
      "The /home/ghunt/zimtest/teded/tree is not empty. Delete if you want to repeat this step.\n",
      "+ exit 0\n"
     ]
    }
   ],
   "source": [
    "# The following command will zimdump to the \"tree\" directory\n",
    "#   and remove the namespace directories\n",
    "# It will return without doing anything if the \"tree' is not empty\n",
    "progname = HOME + '/zimtest/de-namespace.sh'\n",
    "!{progname} {ZIM_PATH} {PROJECT_NAME}"
   ]
  },
  {
   "cell_type": "markdown",
   "id": "intimate-retrieval",
   "metadata": {},
   "source": [
    "* The next step is a manual one that you will need to do with your browser. That is: to verify that after the namespace directories were removed, and all of the html links have been adjusted correctly. Point your browser to <hostname>/zimtest/\\<PROJECT_NAME\\>/tree.\n",
    "* If everything is working, it's time to go fetch the information about each video from youtube."
   ]
  },
  {
   "cell_type": "code",
   "execution_count": null,
   "id": "approximate-addition",
   "metadata": {},
   "outputs": [],
   "source": []
  },
  {
   "cell_type": "code",
   "execution_count": null,
   "id": "precious-cabin",
   "metadata": {},
   "outputs": [],
   "source": [
    "ydl = youtube_dl.YoutubeDL()\n",
    "\n",
    "downloaded = 0\n",
    "skipped = 0\n",
    "# Create a list of youtube id's\n",
    "yt_id_list = os.listdir(PROJECT_DIR + '/videos/')\n",
    "for yt_id in iter(yt_id_list):\n",
    "    if os.path.exists(WORKING_DIR + '/video_json/' + yt_id + '.json'):\n",
    "        # skip over items that are already downloadd\n",
    "        skipped += 1\n",
    "        continue\n",
    "    with ydl:\n",
    "       result = ydl.extract_info(\n",
    "                'http://www.youtube.com/watch?v=%s'%yt_id,\n",
    "                download=False # We just want to extract the info\n",
    "                )\n",
    "       downloaded += 1\n",
    "\n",
    "    with open(WORKING_DIR + '/video_json/' + yt_id + '.json','w') as fp:\n",
    "        fp.write(json.dumps(result))\n",
    "    #pprint.pprint(result['upload_date'],result['view_count'])\n",
    "print('%s skipped and %s downloaded'%(skipped,downloaded))"
   ]
  },
  {
   "cell_type": "code",
   "execution_count": 18,
   "id": "backed-vitamin",
   "metadata": {},
   "outputs": [],
   "source": [
    "def get_assets_data():\n",
    "    outstr = ''\n",
    "    data = {}\n",
    "    with open(PROJECT_DIR + '/assets/data.js', 'r') as fp:\n",
    "        while True:\n",
    "            line = fp.readline()\n",
    "            if not line:\n",
    "                break\n",
    "            if line.startswith('var'):\n",
    "                if len(outstr) > 1:\n",
    "                    # clip off the trailing semicolon\n",
    "                    outstr = outstr[:-2]\n",
    "                    try:\n",
    "                        data[cat] = json.loads(outstr)\n",
    "                    except Exception:\n",
    "                        print('Parse error: %s'%outstr[:80])\n",
    "                        exit\n",
    "                cat = line[9:-4]\n",
    "                outstr = '['\n",
    "            else:\n",
    "                outstr += line\n",
    "    return data\n",
    "\n",
    "zim_category_js = get_assets_data()\n",
    "\n",
    "def get_zim_data(yt_id):\n",
    "    rtn_dict = {}\n",
    "    for cat in zim_category_js:\n",
    "        for video in range(len(zim_category_js[cat])):\n",
    "            if zim_category_js[cat][video]['id'] == yt_id:\n",
    "                rtn_dict = zim_category_js[cat][video]\n",
    "                break\n",
    "        if len(rtn_dict) > 0: break\n",
    "    return rtn_dict"
   ]
  },
  {
   "cell_type": "code",
   "execution_count": 14,
   "id": "korean-directive",
   "metadata": {
    "scrolled": true,
    "tags": []
   },
   "outputs": [
    {
     "name": "stdout",
     "output_type": "stream",
     "text": [
      "actions_and_reactions  48\n",
      "humans_vs_viruses  17\n",
      "the_world_of_sports  12\n",
      "a_day_in_the_life  11\n",
      "even_more_ted_ed_originals  160\n",
      "math_in_real_life  84\n",
      "moments_of_vision  12\n",
      "the_way_we_think  38\n",
      "superhero_science  7\n",
      "ted_ed_riddles_season_1  8\n",
      "love_actually  6\n",
      "the_wonders_of_earth  13\n",
      "ted_ed_weekend_student_talks  26\n",
      "everyone_has_a_story  16\n",
      "ted_ed_riddles_season_2  8\n",
      "ted_ed_riddles_season_4  9\n",
      "awesome_nature  146\n",
      "the_big_questions  42\n",
      "math_of_the_impossible  12\n",
      "the_artist_s_palette  19\n",
      "animation_basics  12\n",
      "getting_under_our_skin  151\n",
      "questions_no_one_yet_knows_the_answers_to  8\n",
      "think_like_a_coder  9\n",
      "uploads_from_ted_ed  1680\n",
      "new_ted_ed_originals  864\n",
      "exploring_the_senses  10\n",
      "hone_your_media_literacy_skills  7\n",
      "well_behaved_women_seldom_make_history  36\n",
      "student_voices_from_tedtalksed  3\n",
      "mind_matters  44\n",
      "out_of_this_world  41\n",
      "behind_the_curtain  30\n",
      "government_declassified  33\n",
      "inventions_that_shaped_history  46\n",
      "brain_discoveries  13\n",
      "reading_between_the_lines  54\n",
      "visualizing_data  11\n",
      "integrated_photonics  3\n",
      "playing_with_language  38\n",
      "mysteries_of_vernacular  26\n",
      "how_things_work  77\n",
      "can_you_solve_this_riddle  49\n",
      "the_works_of_william_shakespeare  9\n",
      "the_basics_of_quantum_mechanics  10\n",
      "cern_space_time_101  3\n",
      "ted_ed_loves_trees  8\n",
      "facing_our_ugly_history  3\n",
      "the_great_thanksgiving_car_ride  8\n",
      "understanding_genetics  12\n",
      "more_book_recommendations_from_ted_ed  37\n",
      "tedyouth_talks  41\n",
      "ted_ed_professional_development  5\n",
      "ted_ed_riddles_season_3  7\n",
      "history_vs  11\n",
      "you_are_what_you_eat  13\n",
      "our_changing_climate  29\n",
      "the_power_of_nature  6\n",
      "the_writer_s_workshop  25\n",
      "troubleshooting_the_world  86\n",
      "before_and_after_einstein  47\n",
      "more_money_more_problems  8\n",
      "ecofying_cities  10\n",
      "the_world_s_people_and_places  125\n",
      "more_ted_ed_originals  174\n",
      "making_the_invisible_visible  9\n",
      "there_s_a_poem_for_that_season_1  12\n",
      "cyber_influence_power  29\n",
      "discovering_the_deep  28\n",
      "national_teacher_day  19\n",
      "Number of Videos in all categories -- perhaps used more than once:4713\n"
     ]
    }
   ],
   "source": [
    "tot=0\n",
    "for cat in zim_category_js:\n",
    "    tot += len(zim_category_js[cat])\n",
    "    print(cat, len(zim_category_js[cat]))\n",
    "print('Number of Videos in all categories -- perhaps used more than once:%d'%tot)"
   ]
  },
  {
   "cell_type": "code",
   "execution_count": 26,
   "id": "suited-contributor",
   "metadata": {
    "tags": []
   },
   "outputs": [
    {
     "name": "stdout",
     "output_type": "stream",
     "text": [
      "Expecting value: line 1 column 1 (char 0)\n",
      "\n",
      "Expecting value: line 1 column 1 (char 0)\n",
      "\n"
     ]
    }
   ],
   "source": [
    "import sqlite3\n",
    "class Sqlite():\n",
    "   def __init__(self, filename):\n",
    "      self.conn = sqlite3.connect(filename)\n",
    "      self.conn.row_factory = sqlite3.Row\n",
    "      self.conn.text_factory = str\n",
    "      self.c = self.conn.cursor()\n",
    "    \n",
    "   def __del__(self):\n",
    "      self.conn.commit()\n",
    "      self.c.close()\n",
    "      del self.conn\n",
    "\n",
    "def get_video_json(path):\n",
    "    with open(path,'r') as fp:\n",
    "        try:\n",
    "            jsonstr = fp.read()\n",
    "            #print(path)\n",
    "            modules = json.loads(jsonstr.strip())\n",
    "        except Exception as e:\n",
    "            print(e)\n",
    "            print(jsonstr[:80])\n",
    "            return {}\n",
    "    return modules\n",
    "\n",
    "def video_size(yt_id):\n",
    "    return os.path.getsize(PROJECT_DIR + '/videos/' + yt_id + '/video.webm')\n",
    "\n",
    "def make_directory(path):\n",
    "    if not os.path.exists(path):\n",
    "        os.makedirs(path)\n",
    "\n",
    "def download_file(url,todir):\n",
    "    local_filename = url.split('/')[-1]\n",
    "    r = requests.get(url)\n",
    "    f = open(todir + '/' + local_filename, 'wb')\n",
    "    for chunk in r.iter_content(chunk_size=512 * 1024):\n",
    "        if chunk:\n",
    "            f.write(chunk)\n",
    "    f.close()\n",
    "\n",
    "def initialize_db():\n",
    "    sql = 'CREATE TABLE IF NOT EXISTS video_info ('\\\n",
    "            'yt_id TEXT UNIQUE, zim_size INTEGER, view_count INTEGER, average_rating REAL,slug TEXT)'\n",
    "    db.c.execute(sql)\n",
    "\n",
    "db = Sqlite(WORKING_DIR + '/zim_video_info.sqlite')\n",
    "initialize_db()\n",
    "yt_id_list = os.listdir(WORKING_DIR + '/video_json/' )\n",
    "for yt_id in iter(yt_id_list):\n",
    "    zim_data = get_zim_data(yt_id[:-5])\n",
    "    slug = zim_data['slug']\n",
    "    data = get_video_json(WORKING_DIR + \"/video_json/\" + yt_id)\n",
    "    if len(data) == 0:continue\n",
    "    vsize = video_size(yt_id[:-5])\n",
    "    view_count = data['view_count']\n",
    "    average_rating = data['average_rating']\n",
    "    sql = 'INSERT OR REPLACE INTO video_info VALUES (?,?,?,?,?)'\n",
    "    db.c.execute(sql,[yt_id[:-5],vsize,view_count,average_rating,slug])\n",
    "db.conn.commit()"
   ]
  },
  {
   "cell_type": "code",
   "execution_count": 27,
   "id": "hidden-jungle",
   "metadata": {
    "scrolled": true,
    "tags": []
   },
   "outputs": [
    {
     "name": "stdout",
     "output_type": "stream",
     "text": [
      "yt_id|zim_size|view_count|average_rating|slug\n",
      "eFCk3qWmCoo|29780783|13594|4.9529409|how_arduino_is_open_sourcing_imagination_massimo_banzi\n",
      "0Wb5obt7QO0|15978414|6924|4.9375|how_we_found_the_giant_squid_edith_widder\n"
     ]
    }
   ],
   "source": [
    "sqlite_db = WORKING_DIR + '/zim_video_info.sqlite'\n",
    "!sqlite3 {sqlite_db} '.headers on' 'select * from video_info limit 2'"
   ]
  },
  {
   "cell_type": "code",
   "execution_count": null,
   "id": "final-daily",
   "metadata": {},
   "outputs": [],
   "source": []
  }
 ],
 "metadata": {
  "kernelspec": {
   "display_name": "Python 3",
   "language": "python",
   "name": "python3"
  },
  "language_info": {
   "codemirror_mode": {
    "name": "ipython",
    "version": 3
   },
   "file_extension": ".py",
   "mimetype": "text/x-python",
   "name": "python",
   "nbconvert_exporter": "python",
   "pygments_lexer": "ipython3",
   "version": "3.9.1"
  },
  "toc-autonumbering": true,
  "toc-showmarkdowntxt": false,
  "toc-showtags": false
 },
 "nbformat": 4,
 "nbformat_minor": 5
}
